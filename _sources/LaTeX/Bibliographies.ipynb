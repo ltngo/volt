{
 "cells": [
  {
   "cell_type": "markdown",
   "metadata": {},
   "source": [
    "# Creating Bibliographies in LaTeX"
   ]
  },
  {
   "cell_type": "markdown",
   "metadata": {},
   "source": [
    "*Objective: Learn the basic commands to create and edit in-text citations and bibliographies*"
   ]
  },
  {
   "cell_type": "markdown",
   "metadata": {},
   "source": [
    "## Getting started with a .bib file"
   ]
  },
  {
   "cell_type": "markdown",
   "metadata": {},
   "source": [
    "In order to include in-text citations and a bibliography, the document needs to refer to a .bib file. There are three ways to include a .bib file in a project in Overleaf."
   ]
  },
  {
   "cell_type": "markdown",
   "metadata": {},
   "source": [
    "1. Upload your own .bib file that is exported from a citation manager.\n",
    "2. Link to a URL (.bib)\n",
    "3. Connect your Overleaf account with Mendeley or Zotero "
   ]
  },
  {
   "cell_type": "markdown",
   "metadata": {},
   "source": [
    "If working in a traditional LaTeX editor, locate the .bib file in the directory."
   ]
  },
  {
   "cell_type": "markdown",
   "metadata": {},
   "source": [
    "## What does a citation in a .bib file look like? "
   ]
  },
  {
   "cell_type": "markdown",
   "metadata": {},
   "source": [
    "![bibkey](images/bibkey.png)"
   ]
  },
  {
   "cell_type": "markdown",
   "metadata": {},
   "source": [
    "## Bibliography Packages"
   ]
  },
  {
   "cell_type": "markdown",
   "metadata": {},
   "source": [
    "LaTeX uses two common packages to generate in-text citations and bibliographies.\n",
    "1. natbib: works best with author-year citations and numerical citations. This package works well for simple, short bibliographies, but is not supported and less commonly used. \n",
    "2. biblatex: the most flexible package for generating citations and the package that will be referred to in this document. "
   ]
  },
  {
   "cell_type": "markdown",
   "metadata": {},
   "source": [
    "Packages required for the preamble:"
   ]
  },
  {
   "cell_type": "markdown",
   "metadata": {},
   "source": [
    "`\\usepackage[backend=biber,style=authoryear]{biblatex}`"
   ]
  },
  {
   "cell_type": "markdown",
   "metadata": {},
   "source": [
    "The above syntax calls in the biblatex package and the backend (biber), which acts as the interface between the .bib file and the LaTeX document. \"Authoryear\" denotes the citation style. This can be changed accordingly."
   ]
  },
  {
   "cell_type": "markdown",
   "metadata": {},
   "source": [
    "`\\addbibresource{example.bib}`"
   ]
  },
  {
   "cell_type": "markdown",
   "metadata": {},
   "source": [
    "The above command calls in the .bib file, which has the citation information for in-text citations and the bibliography."
   ]
  },
  {
   "cell_type": "markdown",
   "metadata": {},
   "source": [
    "`\\printbibliography`"
   ]
  },
  {
   "cell_type": "markdown",
   "metadata": {},
   "source": [
    "The above command inserts the bibliography, which will contain citations referenced in the text."
   ]
  },
  {
   "cell_type": "markdown",
   "metadata": {},
   "source": [
    "## In-text citations"
   ]
  },
  {
   "cell_type": "markdown",
   "metadata": {},
   "source": [
    "`\\cite{}` → bare citation command (according to style)"
   ]
  },
  {
   "cell_type": "markdown",
   "metadata": {},
   "source": [
    "`\\parencite{}` → parenthetical citation"
   ]
  },
  {
   "cell_type": "markdown",
   "metadata": {},
   "source": [
    "`\\citeauthor{}` → prints author names(s)"
   ]
  },
  {
   "cell_type": "markdown",
   "metadata": {},
   "source": [
    "`\\textcite{}` → prints authors or editors followed by a citation label enclosed in ()\n"
   ]
  },
  {
   "cell_type": "markdown",
   "metadata": {},
   "source": [
    "`\\nocite {*}` → prints publication in bibliography without citation"
   ]
  },
  {
   "cell_type": "markdown",
   "metadata": {},
   "source": [
    "`\\citeyear{}` → prints only the year field"
   ]
  },
  {
   "cell_type": "markdown",
   "metadata": {},
   "source": [
    "### Examples "
   ]
  },
  {
   "cell_type": "markdown",
   "metadata": {},
   "source": [
    "`\\cite{knyazeva_duplex_2013}` → Knyazeva and Pohl 2013\n",
    "\n"
   ]
  },
  {
   "cell_type": "markdown",
   "metadata": {},
   "source": [
    "`\\parencite{singh_erratum:_2013}` → (Singh et al. 2013)\n",
    "\n"
   ]
  },
  {
   "cell_type": "markdown",
   "metadata": {},
   "source": [
    "`\\citeauthor{campbell_how_2011}` → Campbell and Cabrera "
   ]
  },
  {
   "cell_type": "markdown",
   "metadata": {},
   "source": [
    "`\\textcite{elsabbagh_microstructure_2014}` → Elsabbagh, Hamouda, and Taha (2014)\n"
   ]
  },
  {
   "cell_type": "markdown",
   "metadata": {},
   "source": [
    "### *Exercise*"
   ]
  },
  {
   "cell_type": "markdown",
   "metadata": {},
   "source": [
    "Connect a .bib file to a LaTeX document: \n",
    "\n",
    "- Upload your own .bib file\n",
    "- Use the following link for a sample .bib file to connect to your Overleaf project: bit.ly/2Jzxcw9\n",
    "- Link Overleaf to your Zotero or Mendeley account\n",
    "\n"
   ]
  },
  {
   "cell_type": "markdown",
   "metadata": {},
   "source": [
    "![bibex](images/bibex.png)"
   ]
  },
  {
   "cell_type": "markdown",
   "metadata": {},
   "source": [
    "Once connected, insert the `Biblatex` package and call in the .bib file."
   ]
  },
  {
   "cell_type": "markdown",
   "metadata": {},
   "source": [
    "Referencing the above in-text citation examples, insert 4 citations into your practice document. At the end of the document, insert the final bibliography. "
   ]
  },
  {
   "cell_type": "markdown",
   "metadata": {},
   "source": [
    "For additional examples and more information, please visit Overleaf's page on [bibliography management in LaTeX](https://www.overleaf.com/learn/latex/Bibliography_management_in_LaTeX)"
   ]
  },
  {
   "cell_type": "code",
   "execution_count": null,
   "metadata": {},
   "outputs": [],
   "source": []
  },
  {
   "cell_type": "code",
   "execution_count": null,
   "metadata": {},
   "outputs": [],
   "source": []
  }
 ],
 "metadata": {
  "kernelspec": {
   "display_name": "Python 3",
   "language": "python",
   "name": "python3"
  },
  "language_info": {
   "codemirror_mode": {
    "name": "ipython",
    "version": 3
   },
   "file_extension": ".py",
   "mimetype": "text/x-python",
   "name": "python",
   "nbconvert_exporter": "python",
   "pygments_lexer": "ipython3",
   "version": "3.8.3"
  }
 },
 "nbformat": 4,
 "nbformat_minor": 4
}
