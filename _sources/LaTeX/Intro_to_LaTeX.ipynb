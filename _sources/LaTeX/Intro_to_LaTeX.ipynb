{
 "cells": [
  {
   "cell_type": "markdown",
   "metadata": {},
   "source": [
    "# Introduction to Latex"
   ]
  },
  {
   "cell_type": "markdown",
   "metadata": {},
   "source": [
    "## What is LaTeX?\n",
    "\n",
    "LaTeX is a typesetting system that allows you to focus on your content instead of formatting - formatting is done separately from entry.\n",
    "\n",
    "You tell LaTeX “what it is” not “how it looks.\"\n",
    "\n",
    "The following sections will introduce you to:\n",
    "- creating and editing basic documents in Overleaf\n",
    "- creating tables, and inserting figures and images into your document\n",
    "- using mathematical notation in LaTeX\n",
    "- inserting citations and creating bibliographies"
   ]
  },
  {
   "cell_type": "markdown",
   "metadata": {},
   "source": [
    "## Introduction to LaTeX Workshop"
   ]
  },
  {
   "cell_type": "markdown",
   "metadata": {},
   "source": [
    "Find slides from our Introduction to LaTeX Workshop below:"
   ]
  },
  {
   "cell_type": "markdown",
   "metadata": {},
   "source": [
    "<style>\n",
    ".responsive-wrap iframe{ max-width: 100%;}\n",
    "</style>\n",
    "<div class=\"responsive-wrap\">\n",
    "<!-- this is the embed code provided by Google -->\n",
    "<iframe src=\"https://docs.google.com/presentation/d/e/2PACX-1vQ6imTvmwF32f-dirXeuJVlCJZX7uXm2KpPURWJd-h4ETY2xiX7mYQ21v_iwdio99BFgrhWgJbgmDBg/embed?start=false&loop=false&delayms=10000\" frameborder=\"0\" width=\"960\" height=\"569\" allowfullscreen=\"true\" mozallowfullscreen=\"true\" webkitallowfullscreen=\"true\"></iframe>\n",
    "<!-- Google embed ends -->\n",
    "</div>"
   ]
  },
  {
   "cell_type": "code",
   "execution_count": null,
   "metadata": {},
   "outputs": [],
   "source": []
  }
 ],
 "metadata": {
  "kernelspec": {
   "display_name": "Python 3",
   "language": "python",
   "name": "python3"
  },
  "language_info": {
   "codemirror_mode": {
    "name": "ipython",
    "version": 3
   },
   "file_extension": ".py",
   "mimetype": "text/x-python",
   "name": "python",
   "nbconvert_exporter": "python",
   "pygments_lexer": "ipython3",
   "version": "3.7.6"
  }
 },
 "nbformat": 4,
 "nbformat_minor": 4
}
