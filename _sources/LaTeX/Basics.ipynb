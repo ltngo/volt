{
 "cells": [
  {
   "cell_type": "markdown",
   "metadata": {},
   "source": [
    "# LaTeX Basics"
   ]
  },
  {
   "cell_type": "markdown",
   "metadata": {},
   "source": [
    "## LaTeX using Overleaf\n",
    "\n",
    "* Create documents via a cloud-based account\n",
    "* Source code or rich text format\n",
    "* Collaborating and sharing documents\n",
    "* Versioning and track changes\n",
    "* Templates for a variety of documents and publishers\n",
    "* Link with other tools in your research workflow\n",
    "* Pro account with your berkeley.edu address\n"
   ]
  },
  {
   "cell_type": "markdown",
   "metadata": {},
   "source": [
    "## Example\n",
    "Look at the template below to get a sense of how Overleaf works. On the left side, you'll see the content written in LaTeX. On the right side, the rendered document."
   ]
  },
  {
   "cell_type": "markdown",
   "metadata": {},
   "source": [
    "![Template_image](./images/template.png)"
   ]
  },
  {
   "cell_type": "markdown",
   "metadata": {},
   "source": [
    "## Structure of a document"
   ]
  },
  {
   "cell_type": "markdown",
   "metadata": {},
   "source": [
    "| Term | Description | Example |\n",
    "|-|-|-|\n",
    "| Command | Control sequence which performs an action | `\\newpage`|\n",
    "| Preamble | Block of commands that define the type of document you are writing,  the language you are writing in, the packages you would like to use. Comes before \\begin{document}| `\\documentclass{article}`|\n",
    "| Package | Enable you to create bibliographies, insert images and figures, and write formulas. | `\\usepackage{amsmath}` |\n",
    "| Environment | Block of code with specific behavior depending on its type | `\\begin{}` & `\\end{}` |\n",
    "| Body | Content of document enclosed inside an environment | `\\begin{document}` |"
   ]
  },
  {
   "cell_type": "markdown",
   "metadata": {},
   "source": [
    "```{note}\n",
    "* Comments: \n",
    "Use % to create a comment. Nothing on the line after the % will be typeset.\n",
    "\n",
    "* Restricted Characters: \n",
    "Certain symbols require a backslash to appear, like $, &, #, and %.\n",
    "```"
   ]
  },
  {
   "cell_type": "markdown",
   "metadata": {},
   "source": [
    "## Basic Commands"
   ]
  },
  {
   "cell_type": "markdown",
   "metadata": {},
   "source": [
    "* **Bold**: `\\textbf{example}`\n",
    "* *Italics*: `\\textit{example}`\n",
    "* Underline: `\\underline{example}`\n",
    "\n",
    "Font typefaces: Change in preamble. More information:\n",
    "https://v2.overleaf.com/learn/Font_typefaces\n"
   ]
  },
  {
   "cell_type": "markdown",
   "metadata": {},
   "source": [
    "## Make Title"
   ]
  },
  {
   "cell_type": "markdown",
   "metadata": {},
   "source": [
    "1. The simplest option is to use the \\maketitle command which draws from the following declarations within the preamble:  \n",
    "`\\author`  \n",
    "`\\date`  \n",
    "`\\thanks`  \n",
    "`\\title`    \n",
    "  \n",
    "2. OR use the  \n",
    "`\\begin{titlepage}\n",
    "...\n",
    "\\end{titlepage}`  \n",
    "environment. \n",
    "\n",
    "The titlepage environment creates a title page, i.e. a page with no printed page number or heading. It also causes the following page to be numbered page one. \n",
    "Formatting is left to you, but commands like `\\centering`, `\\vspace`, and `\\vfill` are helpful."
   ]
  },
  {
   "cell_type": "markdown",
   "metadata": {},
   "source": [
    "## Basic Math"
   ]
  },
  {
   "cell_type": "markdown",
   "metadata": {},
   "source": [
    "To display math inline with text, place formula or symbol in between $:\n",
    "\n",
    "`$x + y = z$` renders inline: $x + y = z$"
   ]
  },
  {
   "cell_type": "markdown",
   "metadata": {},
   "source": [
    "Display mode `\\[ x + y = z \\]` will center the equation on its own line:\n",
    "\n",
    "$$x + y = z$$"
   ]
  },
  {
   "cell_type": "markdown",
   "metadata": {},
   "source": [
    "## Lists\n",
    "\n",
    "Use the `\\begin{itemize}...\\end{itemize}` environment to create unnumbered lists.\n",
    "\n",
    "```\n",
    "\\begin{itemize}\n",
    "\\item Apples\n",
    "\\item Cherries\n",
    "\\item Oranges\n",
    "\\item Peaches\n",
    "\\item Watermelon\n",
    "\\end{itemize}\n",
    "```\n",
    "\n",
    "This code results in:\n",
    "\n",
    "- Apples\n",
    "- Cherries\n",
    "- Oranges\n",
    "- Peaches\n",
    "- Watermelon\n",
    "\n",
    "Use the similar `\\begin{enumerate}...\\end{enumerate}` environment to create numbered lists.\n"
   ]
  },
  {
   "cell_type": "markdown",
   "metadata": {},
   "source": [
    "## *Exercise 1*\n",
    "\n",
    "*Objective:  \n",
    "Practice several basic LaTeX commands in a new project.*\n"
   ]
  },
  {
   "cell_type": "markdown",
   "metadata": {},
   "source": [
    "1. Open a new project in [Overleaf](https://www.overleaf.com/edu/berkeley).\n",
    "2. Create title page  \n",
    "    1. Add `[title page]` to make preamble command `\\documentclass[titlepage]{article}`\n",
    "    2.  After `\\title`, add \"vOLT LaTeX Basics Assignment\"\n",
    "    3.  After `\\author`, add your name\n",
    "    4.  Confirm that the date is correct or edit if needed\n",
    "    5.  Create **Title Page** using command `\\maketitle` inserted after `\\begin{document}`\n",
    "3. Add a new section labeled \"Practice\" using the `\\section*` command.\n",
    "4. Add the following paragraph under that section using \"inline\" math commands:\n",
    "\n",
    "---\n",
    "\n",
    "We know the initial pressure $P_0 = 7.00 \\times 10^5 Pa$, the initial temperature $T_0 = 18.0 ^{\\circ}C$, and the final temperature $T_f = 35.0 ^{\\circ}C$.\n",
    "\n",
    "**Question:** What is the final pressure $P_f$?\n",
    "\n",
    "---\n",
    "\n",
    "```{hint}\n",
    "Add the command ``\\usepackage{gensymb}`` to the preamble in order to use the ``\\degree`` command.\n",
    "```\n",
    "\n",
    "5. Add a new section labeled \"California Road Trip Destinations\"\n",
    "6. Make a numbered list of four items, for example:   \n",
    "Yosemite <br/>\n",
    "Big Sur <br/>\n",
    "Lake Tahoe <br/>\n",
    "Death Valley"
   ]
  },
  {
   "cell_type": "markdown",
   "metadata": {},
   "source": [
    "*Commands needed:* `\\section*{}`, `\\times`, `$...$`, `\\begin{enumerate}...\\end{enumerate}`. Degree can be represented several ways such as `$^\\circ$` or `\\degree` (requires the `{gensymb}` package). Subscripts and superscripts are written using the symbols _ and ^. \n",
    "\n",
    "```{tip}\n",
    "Questions? Compare your LaTeX code to the <a href=\"https://www.overleaf.com/read/pqhrrfsggvwm\">solutions</a> to troubleshoot. \n",
    "```"
   ]
  },
  {
   "cell_type": "code",
   "execution_count": null,
   "metadata": {},
   "outputs": [],
   "source": []
  }
 ],
 "metadata": {
  "celltoolbar": "Tags",
  "kernelspec": {
   "display_name": "Python 3",
   "language": "python",
   "name": "python3"
  },
  "language_info": {
   "codemirror_mode": {
    "name": "ipython",
    "version": 3
   },
   "file_extension": ".py",
   "mimetype": "text/x-python",
   "name": "python",
   "nbconvert_exporter": "python",
   "pygments_lexer": "ipython3",
   "version": "3.7.6"
  }
 },
 "nbformat": 4,
 "nbformat_minor": 4
}
