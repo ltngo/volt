{
 "cells": [
  {
   "cell_type": "markdown",
   "metadata": {},
   "source": [
    "# Digital Mapping\n",
    "\n",
    "This tutorial will give a short introduction to some digital mapping concepts, tools, and data.\n",
    "\n",
    "## What is digital mapping?\n",
    "\n",
    "Digital mapping uses computer software (either desktop or web based) to create digital maps. The basic components of digital mapping are **geospatial data** and specialized software called **GIS** ( **G**eographic **I**nformation **S**ystems ). We'll look at each of the these in more detail below.\n",
    "\n",
    "## Components of digital mapping\n",
    "\n",
    "### Geographic data vs. geospatial data\n",
    "\n",
    "**Geographic data** is data about locations on or near the surface of the earth. It can scale from the very local all the way up to a global level.\n",
    "```{note} Because geographic data only includes data on or near the surface of the earth it does not include data about outer space or other planets!\n",
    "```\n",
    "```{image} ./images/no_potw2013a.jpg\n",
    ":alt: Hubble Space Telescope image of a Cannibal Galaxy\n",
    ":height: 100px\n",
    ":align: center\n",
    "```\n",
    "<em>Image source: [https://www.nasa.gov/mission_pages/hubble/multimedia/index.html](https://www.nasa.gov/mission_pages/hubble/multimedia/index.html)</em>\n",
    "\n",
    "Geographic data uses human-understandable means to describe and represent location. For example, a town name (San Jose) or a street intersection (Hearst & Euclid) both describe locations in ways that humans can interpret relatively easily and set in context. Geographic data can also include **attributes** about a location, for example how many people live in a city or the name of a building.\n",
    "\n",
    "**Geospatial data** on the other hand encodes location with coordinates. It consists of geometric representations. This type of representation using geospatial coordinates allows a computer to understand the location. Correctly interpreting the town name \"San Jose\" requires context (which country? which state?), but geospatial coordinates are (relatively) unambiguous. Just like geographic data, geospatial data can also include **attribute** information about a location.\n",
    "\n",
    "Geospatial data is powerful! It can be:\n",
    "* mapped!\n",
    "* used to derive spatial measurements like area and distance\n",
    "* used for determine spatial relationships like inside, next to, etc.\n",
    "\n",
    "## To be continued... :) More content coming soon!"
   ]
  }
 ],
 "metadata": {
  "jupytext": {
   "text_representation": {
    "extension": ".md",
    "format_name": "myst",
    "format_version": "0.8",
    "jupytext_version": "1.4.1+dev"
   }
  },
  "kernelspec": {
   "display_name": "Python 3",
   "language": "python",
   "name": "python3"
  },
  "language_info": {
   "codemirror_mode": {
    "name": "ipython",
    "version": 3
   },
   "file_extension": ".py",
   "mimetype": "text/x-python",
   "name": "python",
   "nbconvert_exporter": "python",
   "pygments_lexer": "ipython3",
   "version": "3.7.10"
  },
  "source_map": [
   12
  ]
 },
 "nbformat": 4,
 "nbformat_minor": 2
}