{
 "cells": [
  {
   "cell_type": "markdown",
   "metadata": {},
   "source": [
    "# Exploring article databases"
   ]
  },
  {
   "cell_type": "markdown",
   "metadata": {},
   "source": [
    "## EXERCISE: Database Comparison"
   ]
  },
  {
   "cell_type": "markdown",
   "metadata": {},
   "source": [
    "Article databases provide additional functionality to guide subject-specific queries. In this exercise, you will select two databases from the “A-Z Databases” list for Engineering on the Library’s website (<https://guides.lib.berkeley.edu/az.php?s=4516>) and evaluate their relevance to your topic.  \n",
    "\n",
    "You can also use Google Scholar (<https://scholar.google.com>) for comparison. Use the same keyword search in both databases."
   ]
  },
  {
   "cell_type": "markdown",
   "metadata": {},
   "source": [
    "## Example\n",
    "\n",
    "Our example query is: **permafrost melt**\n",
    "\n",
    "We have searched for those keywords in a database called GeoRef (<https://libproxy.berkeley.edu/login?qurl=http://search.proquest.com/georef/advanced?accountid=14496>)."
   ]
  },
  {
   "cell_type": "markdown",
   "metadata": {},
   "source": [
    "||Example|Database 1|Database 2|\n",
    "|-|-|-|-|\n",
    "|Database Name|GeoRef||||\n",
    "|Relevance of results|Limited results (32 articles), but all are relevant|||\n",
    "|Types of publications (journal articles, conference papers, patents, books)|Journals articles, conference abstracts|||\n",
    "|Search functionalities (keyword, structure search, CAS number)|limit to peer review|||\n",
    "|Features (sorting, format, ability to export/save, citation information)|sorting, export, no citation info|||\n",
    "|Ease of getting the full text|easy - UC elinks|||"
   ]
  },
  {
   "cell_type": "markdown",
   "metadata": {},
   "source": [
    "## Your turn\n",
    "\n",
    "What is your topic? Try searching your topic in two databases.  \n",
    "Get examples here: <https://guides.lib.berkeley.edu/az.php?s=4516>"
   ]
  },
  {
   "cell_type": "markdown",
   "metadata": {},
   "source": [
    "List your topic here: ___________________________________________________________"
   ]
  },
  {
   "cell_type": "markdown",
   "metadata": {},
   "source": [
    "Edit the table below with your observations."
   ]
  },
  {
   "cell_type": "markdown",
   "metadata": {},
   "source": [
    "||Database 1|Database 2|\n",
    "|-|-|-|\n",
    "|Database Name|||\n",
    "|Relevance of results|||\n",
    "|Types of publications (journal articles, conference papers, patents, books)|||\n",
    "|Search functionalities (keyword, structure search, CAS number)|||\n",
    "|Features (sorting, format, ability to export/save, citation information)|||\n",
    "|Ease of getting the full text|||"
   ]
  },
  {
   "cell_type": "markdown",
   "metadata": {},
   "source": [
    "## Questions\n",
    "\n",
    "* What did you notice about the two databases? \n",
    "* Which features are most useful?\n",
    "* How do the library-subscribed databases differ from Google Scholar?"
   ]
  },
  {
   "cell_type": "code",
   "execution_count": null,
   "metadata": {},
   "outputs": [],
   "source": []
  }
 ],
 "metadata": {
  "kernelspec": {
   "display_name": "Python 3",
   "language": "python",
   "name": "python3"
  },
  "language_info": {
   "codemirror_mode": {
    "name": "ipython",
    "version": 3
   },
   "file_extension": ".py",
   "mimetype": "text/x-python",
   "name": "python",
   "nbconvert_exporter": "python",
   "pygments_lexer": "ipython3",
   "version": "3.7.6"
  }
 },
 "nbformat": 4,
 "nbformat_minor": 4
}
