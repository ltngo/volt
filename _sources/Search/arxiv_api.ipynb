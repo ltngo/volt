{
 "cells": [
  {
   "cell_type": "markdown",
   "metadata": {},
   "source": [
    "# ArXiv API"
   ]
  },
  {
   "cell_type": "markdown",
   "metadata": {},
   "source": [
    "The ArXiV API allows programmatic access to the arXiv's e-print content and metadata. \"The goal of the interface is to facilitate new and creative use of the the vast body of material on the arXiv by providing a low barrier to entry for application developers.\" https://arxiv.org/help/api\n",
    "\n",
    "The API's user manual (https://arxiv.org/help/api/user-manual) provides helpful documentation for using the API and retrieving article metadata.\n",
    "\n",
    "Our examples below will introduce you to the basics of querying the ArXiV API."
   ]
  },
  {
   "cell_type": "markdown",
   "metadata": {},
   "source": [
    "## Install Packages"
   ]
  },
  {
   "cell_type": "code",
   "execution_count": 91,
   "metadata": {},
   "outputs": [],
   "source": [
    "import urllib\n",
    "import arxiv\n",
    "import requests\n",
    "import json\n",
    "import csv\n",
    "import pandas as pd\n",
    "from collections import Counter, defaultdict\n",
    "import numpy as np # for array manipulation\n",
    "import matplotlib.pyplot as plt # for data visualization\n",
    "%matplotlib inline \n",
    "import datetime"
   ]
  },
  {
   "cell_type": "markdown",
   "metadata": {},
   "source": [
    "## Query the API"
   ]
  },
  {
   "cell_type": "markdown",
   "metadata": {},
   "source": [
    "Perform a simple query for \"graphene.\" We'll limit results to the 100 most relevant papers. Take a look at the information you get back and how it is structured."
   ]
  },
  {
   "cell_type": "code",
   "execution_count": 92,
   "metadata": {
    "tags": [
     "output_scroll"
    ]
   },
   "outputs": [
    {
     "output_type": "execute_result",
     "data": {
      "text/plain": [
       "phene. Systematic analysis reveals that interlayer interaction is essential\n",
       " for the presence (or absence) of M band whereas the substrate has no effect on\n",
       " this. Dispersive behaviors of these \"new\" Raman modes in graphene have been\n",
       " probed by the excitation energy dependent Raman spectroscopy. It is found that\n",
       " the appearance of the M band strictly relies on the AB stacking, which could be\n",
       " a fingerprint of AB-stacked bilayer graphene. This work expands the unique and\n",
       " powerful abilities of Raman spectroscopy on study of graphene and provides\n",
       " another effective way to probe phonon dispersion, electron-phonon coupling, and\n",
       " to exploit electronic band structure of graphene layers., comment=None, journal_ref=None, doi=None, primary_category=cond-mat.mtrl-sci, categories=['cond-mat.mtrl-sci'], links=[arxiv.Result.Link(http://arxiv.org/abs/1010.3391v1, title=None, rel=alternate, content_type=None), arxiv.Result.Link(http://arxiv.org/pdf/1010.3391v1, title=pdf, rel=related, content_type=None)]),\n",
       " arxiv.Result(entry_id=http://arxiv.org/abs/1012.5061v1, updated=2010-12-22 18:14:04+00:00, published=2010-12-22 18:14:04+00:00, title=Tuning of Graphene Properties via Controlled Exposure to Electron Beams, authors=[arxiv.Result.Author(G. Liu), arxiv.Result.Author(D. Teweldebrhan), arxiv.Result.Author(A. A. Balandin)], summary=Controlled modification of graphene properties is essential for its proposed\n",
       " electronic applications. Here we describe a possibility of tuning electrical\n",
       " properties of graphene via electron beam irradiation. We show that by\n",
       " controlling the irradiation dose one can change the carrier mobility and\n",
       " increase the resistance at the minimum conduction point in the single layer\n",
       " graphene. The bilayer graphene is less susceptible to the electron beam\n",
       " irradiation. The modification of graphene properties via irradiation can be\n",
       " monitored and quantified by the changes in the disorder D peak in Raman\n",
       " spectrum of graphene. The obtained results may lead to a new method of defect\n",
       " engineering of graphene physical properties, and to the procedure of \"writing\"\n",
       " graphene circuits via e-beam irradiation. The results also have implications\n",
       " for fabrication of graphene nanodevices, which involve scanning electron\n",
       " microscopy and electron beam lithography., comment=None, journal_ref=None, doi=10.1109/TNANO.2010.2087391, primary_category=cond-mat.mtrl-sci, categories=['cond-mat.mtrl-sci'], links=[arxiv.Result.Link(http://dx.doi.org/10.1109/TNANO.2010.2087391, title=doi, rel=related, content_type=None), arxiv.Result.Link(http://arxiv.org/abs/1012.5061v1, title=None, rel=alternate, content_type=None), arxiv.Result.Link(http://arxiv.org/pdf/1012.5061v1, title=pdf, rel=related, content_type=None)]),\n",
       " arxiv.Result(entry_id=http://arxiv.org/abs/1107.4656v1, updated=2011-07-23 04:43:32+00:00, published=2011-07-23 04:43:32+00:00, title=Controlling doping in graphene through a SiC substrate: A first-principles study, authors=[arxiv.Result.Author(Bing Huang), arxiv.Result.Author(Hongjun Xiang), arxiv.Result.Author(Su-Huai Wei)], summary=Controlling the type and density of charge carriers by doping is the key step\n",
       " for developing graphene electronics. However, direct doping of graphene is\n",
       " rather a challenge. Based on first-principles calculations, a concept of\n",
       " overcoming doping difficulty in graphene via substrate is reported.We find that\n",
       " doping could be strongly enhanced in epitaxial graphene grown on silicon\n",
       " carbide substrate. Compared to free-standing graphene, the formation energies\n",
       " of the dopants can decrease by as much as 8 eV. The type and density of the\n",
       " charge carriers of epitaxial graphene layer can be effectively manipulated by\n",
       " suitable dopants and surface passivation. More importantly, contrasting to the\n",
       " direct doping of graphene, the charge carriers in epitaxial graphene layer are\n",
       " weakly scattered by dopants due to the spatial separation between dopants and\n",
       " the conducting channel. Finally, we show that a similar idea can also be used\n",
       " to control magnetic properties, for example, induce a half-metallic state in\n",
       " the epitaxial graphene without magnetic impurity doping., comment=None, journal_ref=Physical Review B 83, 161405(R) (2011), doi=10.1103/PhysRevB.83.161405, primary_category=cond-mat.mes-hall, categories=['cond-mat.mes-hall'], links=[arxiv.Result.Link(http://dx.doi.org/10.1103/PhysRevB.83.161405, title=doi, rel=related, content_type=None), arxiv.Result.Link(http://arxiv.org/abs/1107.4656v1, title=None, rel=alternate, content_type=None), arxiv.Result.Link(http://arxiv.org/pdf/1107.4656v1, title=pdf, rel=related, content_type=None)]),\n",
       " arxiv.Result(entry_id=http://arxiv.org/abs/1111.2278v1, updated=2011-11-09 17:19:08+00:00, published=2011-11-09 17:19:08+00:00, title=Extrinsic morphology of graphene, authors=[arxiv.Result.Author(Teng Li)], summary=Graphene is intrinsically non-flat and corrugates randomly. Since the\n",
       " corrugating physics of atomically-thin graphene is strongly tied to its\n",
       " electronics properties, randomly corrugating morphology of graphene poses\n",
       " significant challenge to its application in nanoelectronic devices for which\n",
       " precise (digital) control is the key. Recent studies revealed that the\n",
       " morphology of substrate-supported graphene is regulated by the\n",
       " graphene-substrate interaction, thus is distinct from the random intrinsic\n",
       " morphology of freestanding graphene. The regulated extrinsic morphology of\n",
       " graphene sheds light on new pathways to fine tune the properties of graphene.\n",
       " To guide further research to explore these fertile opportunities, this paper\n",
       " reviews recent progress on modeling and experimental studies of the extrinsic\n",
       " morphology of graphene under a wide range of external regulation, including two\n",
       " dimensional and one dimensional substrate surface features and one dimensional\n",
       " and zero dimensional nanoscale scaffolds (e.g., nanowires and nanoparticles)., comment=None, journal_ref=Modelling and Simulations in Materials Science and Engineering,\n",
       "   19, 054005 (2011), doi=10.1088/0965-0393/19/5/05400, primary_category=cond-mat.mes-hall, categories=['cond-mat.mes-hall', 'cond-mat.mtrl-sci'], links=[arxiv.Result.Link(http://dx.doi.org/10.1088/0965-0393/19/5/05400, title=doi, rel=related, content_type=None), arxiv.Result.Link(http://arxiv.org/abs/1111.2278v1, title=None, rel=alternate, content_type=None), arxiv.Result.Link(http://arxiv.org/pdf/1111.2278v1, title=pdf, rel=related, content_type=None)]),\n",
       " arxiv.Result(entry_id=http://arxiv.org/abs/1111.4461v1, updated=2011-11-18 19:24:02+00:00, published=2011-11-18 19:24:02+00:00, title=A Molecular Mechanics Study of Morphologic Interaction between Graphene and Si Nanowires on a SiO2 Substrate, authors=[arxiv.Result.Author(Zhao Zhang), arxiv.Result.Author(Teng Li)], summary=In this paper, we study the morphologic interaction between graphene and Si\n",
       " nanowires on a SiO2 substrate, using molecular mechanics simulations. Two cases\n",
       " are considered: 1) a graphene nanoribbon intercalated by a single Si nanowire\n",
       " on a SiO2 substrate and 2) a blanket graphene flake intercalated by an array of\n",
       " Si nanowires evenly patterned in parallel on a SiO2 substrate. Various graphene\n",
       " morphologies emerge from the simulation results of these two cases, which are\n",
       " shown to depend on both geometric parameters (e.g., graphene nanoribbon width,\n",
       " nanowire diameter, and nanowire spacing) and material properties (e.g.,\n",
       " graphene-nanowire and graphene-substrate bonding strength). While the\n",
       " quantitative results at the atomistic resolution in this study can be further\n",
       " used to determine the change of electronic properties of graphene under\n",
       " morphologic regulation, the qualitative understandings from this study can be\n",
       " extended to help exploring graphene morphology in other material systems., comment=None, journal_ref=Journal of Nanomaterials, vol. 2011, Article ID 374018, (2011), doi=10.1155/2011/374018, primary_category=cond-mat.mtrl-sci, categories=['cond-mat.mtrl-sci', 'cond-mat.mes-hall'], links=[arxiv.Result.Link(http://dx.doi.org/10.1155/2011/374018, title=doi, rel=related, content_type=None), arxiv.Result.Link(http://arxiv.org/abs/1111.4461v1, title=None, rel=alternate, content_type=None), arxiv.Result.Link(http://arxiv.org/pdf/1111.4461v1, title=pdf, rel=related, content_type=None)]),\n",
       " arxiv.Result(entry_id=http://arxiv.org/abs/1112.1378v1, updated=2011-12-06 19:20:12+00:00, published=2011-12-06 19:20:12+00:00, title=Homogeneous bilayer graphene film based flexible transparent conductor, authors=[arxiv.Result.Author(Seunghyun Lee), arxiv.Result.Author(Kyunghoon Lee), arxiv.Result.Author(Chang-Hua Liu), arxiv.Result.Author(Zhaohui Zhong)], summary=Graphene is considered a promising candidate to replace conventional\n",
       " transparent conductors due to its low opacity, high carrier mobility and\n",
       " flexible structure. Multi-layer graphene or stacked single layer graphenes have\n",
       " been investigated in the past but both have their drawbacks. The uniformity of\n",
       " multi-layer graphene is still questionable, and single layer graphene stacks\n",
       " require many transfer processes to achieve sufficiently low sheet resistance.\n",
       " In this work, bilayer graphene film grown with low pressure chemical vapor\n",
       " deposition was used as a transparent conductor for the first time. The\n",
       " technique was demonstrated to be highly efficient in fabricating a conductive\n",
       " and uniform transparent conductor compared to multi-layer or single layer\n",
       " graphene. Four transfers of bilayer graphene yielded a transparent conducting\n",
       " film with a sheet resistance of 180 {\\Omega}_{\\square} at a transmittance of\n",
       " 83%. In addition, bilayer graphene films transferred onto plastic substrate\n",
       " showed remarkable robustness against bending, with sheet resistance change less\n",
       " than 15% at 2.14% strain, a 20-fold improvement over commercial indium oxide\n",
       " films., comment=None, journal_ref=None, doi=10.1039/c1nr11574j, primary_category=cond-mat.mes-hall, categories=['cond-mat.mes-hall'], links=[arxiv.Result.Link(http://dx.doi.org/10.1039/c1nr11574j, title=doi, rel=related, content_type=None), arxiv.Result.Link(http://arxiv.org/abs/1112.1378v1, title=None, rel=alternate, content_type=None), arxiv.Result.Link(http://arxiv.org/pdf/1112.1378v1, title=pdf, rel=related, content_type=None)]),\n",
       " arxiv.Result(entry_id=http://arxiv.org/abs/1201.2935v1, updated=2012-01-13 13:02:34+00:00, published=2012-01-13 13:02:34+00:00, title=Fracturing graphene by chlorination: a theoretical viewpoint, authors=[arxiv.Result.Author(M. Ijäs), arxiv.Result.Author(P. Havu), arxiv.Result.Author(A. Harju)], summary=Motivated by the recent photochlorination experiment [B. Li et al., ACS Nano\n",
       " 5, 5957 (2011)], we study theoretically the interaction of chlorine with\n",
       " graphene. In previous theoretical studies, covalent binding between chlorine\n",
       " and carbon atoms has been elusive upon adsorption to the graphene basal plane.\n",
       " Interestingly, in their recent experiment, Li et al. interpreted their data in\n",
       " terms of chemical bonding of chlorine on top of the graphene plane, associated\n",
       " with a change from sp2 to sp3 in carbon hybridization and formation of graphene\n",
       " nanodomains. We study the hypothesis that these domains are actually fractured\n",
       " graphene with chlorinated edges, and compare the energetics of\n",
       " chlorine-containing graphene edge terminations, both in zigzag and armchair\n",
       " directions, to chlorine adsorption onto infinite graphene. Our results indicate\n",
       " that edge chlorination is favored over adsorption in the experimental\n",
       " conditions with radical atomic chlorine and that edge chlorination with\n",
       " sp3-hybridized edge carbons is stable also in ambient conditions. An ab initio\n",
       " thermodynamical analysis shows that the presence of chlorine is able to break\n",
       " the pristine graphene layer. Finally, we discuss the possible effects of the\n",
       " silicon dioxide substrate on the chlorination of graphene., comment=None, journal_ref=Phys. Rev. B 85, 035440 (2012), doi=10.1103/PhysRevB.85.035440, primary_category=cond-mat.mes-hall, categories=['cond-mat.mes-hall', 'cond-mat.mtrl-sci'], links=[arxiv.Result.Link(http://dx.doi.org/10.1103/PhysRevB.85.035440, title=doi, rel=related, content_type=None), arxiv.Result.Link(http://arxiv.org/abs/1201.2935v1, title=None, rel=alternate, content_type=None), arxiv.Result.Link(http://arxiv.org/pdf/1201.2935v1, title=pdf, rel=related, content_type=None)]),\n",
       " arxiv.Result(entry_id=http://arxiv.org/abs/1202.0043v1, updated=2012-01-31 22:21:54+00:00, published=2012-01-31 22:21:54+00:00, title=Density functional theory studies of interactions of graphene with its environment: substrate, gate dielectric and edge effects, authors=[arxiv.Result.Author(Priyamvada Jadaun), arxiv.Result.Author(Bhagawan R. Sahu), arxiv.Result.Author(Leonard F. Register), arxiv.Result.Author(Sanjay K. Banerjee)], summary=This paper reviews the theoretical work undertaken using density functional\n",
       " theory (DFT) to explore graphene's interactions with its surroundings. We look\n",
       " at the impact of substrates, gate dielectrics and edge effects on the\n",
       " properties of graphene. In particular, we focus on graphene-on-quartz and\n",
       " graphene-on-alumina systems, exploring their energy spectrum and charge\n",
       " distribution. Silicon-terminated quartz is found to not perturb the linear\n",
       " graphene spectrum. On the other hand, oxygen-terminated quartz and both\n",
       " terminations of alumina bond with graphene, leading to the opening of a band\n",
       " gap. Significant charge transfer is seen between the graphene layer and the\n",
       " oxide in the latter cases. Additionally, we review the work of others regarding\n",
       " the effect of various substrates on the electronic properties of graphene.\n",
       " Confining graphene to form nanoribbons also results in the opening of a band\n",
       " gap. The value of the gap is dependent on the edge properties as well as width\n",
       " of the nanoribbon., comment=None, journal_ref=Solid State Communications, 152, 1497 (2012), doi=10.1016/j.ssc.2012.04.044, primary_category=cond-mat.mes-hall, categories=['cond-mat.mes-hall'], links=[arxiv.Result.Link(http://dx.doi.org/10.1016/j.ssc.2012.04.044, title=doi, rel=related, content_type=None), arxiv.Result.Link(http://arxiv.org/abs/1202.0043v1, title=None, rel=alternate, content_type=None), arxiv.Result.Link(http://arxiv.org/pdf/1202.0043v1, title=pdf, rel=related, content_type=None)]),\n",
       " arxiv.Result(entry_id=http://arxiv.org/abs/1205.3079v1, updated=2012-05-14 16:16:56+00:00, published=2012-05-14 16:16:56+00:00, title=Growth Structure and Work Function of Bilayer Graphene on Pd(111), authors=[arxiv.Result.Author(Y. Murata), arxiv.Result.Author(S. Nie), arxiv.Result.Author(A. Ebnonnasir), arxiv.Result.Author(E. Starodub), arxiv.Result.Author(B. B. Kappes), arxiv.Result.Author(K. F. McCarty), arxiv.Result.Author(C. V. Ciobanu), arxiv.Result.Author(S. Kodambaka)], summary=Using in situ low-energy electron microscopy and density functional theory,\n",
       " we studied the growth structure and work function of bilayer graphene on\n",
       " Pd(111). Low-energy electron diffraction analysis established that the two\n",
       " graphene layers have multiple rotational orientations relative to each other\n",
       " and the substrate plane. We observed heterogeneous nucleation and simultaneous\n",
       " growth of multiple, faceted layers prior to the completion of second layer. We\n",
       " propose that the facetted shapes are due to the zigzag-terminated edges\n",
       " bounding graphene layers growing under the larger overlying layers. We also\n",
       " found that the work functions of bilayer graphene domains are higher than those\n",
       " of monolayer graphene, and depend sensitively on the orientations of both\n",
       " layers with respect to the substrate. Based on first-principles simulations, we\n",
       " attribute this behavior to oppositely oriented electrostatic dipoles at the\n",
       " graphene/Pd and graphene/graphene interfaces, whose strengths depend on the\n",
       " orientations of the two graphene layers., comment=None, journal_ref=Physical Review B 85 (2012) 205443, doi=10.1103/PhysRevB.85.205443, primary_category=cond-mat.mtrl-sci, categories=['cond-mat.mtrl-sci'], links=[arxiv.Result.Link(http://dx.doi.org/10.1103/PhysRevB.85.205443, title=doi, rel=related, content_type=None), arxiv.Result.Link(http://arxiv.org/abs/1205.3079v1, title=None, rel=alternate, content_type=None), arxiv.Result.Link(http://arxiv.org/pdf/1205.3079v1, title=pdf, rel=related, content_type=None)]),\n",
       " arxiv.Result(entry_id=http://arxiv.org/abs/1210.4147v1, updated=2012-10-15 19:40:03+00:00, published=2012-10-15 19:40:03+00:00, title=Electronic inhomogeneities in graphene: the role of the substrate interaction and chemical doping, authors=[arxiv.Result.Author(A. Castellanos-Gomez), arxiv.Result.Author(Arramel), arxiv.Result.Author(M. Wojtaszek), arxiv.Result.Author(R. H. M. Smit), arxiv.Result.Author(N. Tombros), arxiv.Result.Author(N. Agraït), arxiv.Result.Author(B. J. van Wees), arxiv.Result.Author(G. Rubio-Bollinger)], summary=We probe the local inhomogeneities of the electronic properties of graphene\n",
       " at the nanoscale using scanning probe microscopy techniques. First, we focus on\n",
       " the study of the electronic inhomogeneities caused by the graphene-substrate\n",
       " interaction in graphene samples exfoliated on silicon oxide. We find that\n",
       " charged impurities, present in the graphene-substrate interface, perturb the\n",
       " carrier density significantly and alter the electronic properties of graphene.\n",
       " This finding helps to understand the observed device-to-device variation\n",
       " typically observed in graphene-based electronic devices. Second, we probe the\n",
       " effect of chemical modification in the electronic properties of graphene, grown\n",
       " by chemical vapour deposition on nickel. We find that both the chemisorption of\n",
       " hydrogen and the physisorption of porphyrin molecules strongly depress the\n",
       " conductance at low bias indicating the opening of a bandgap in graphene, paving\n",
       " the way towards the chemical engineering of the electronic properties of\n",
       " graphene., comment=None, journal_ref=Bolet\\'in del Grupo Espa\\~nol del Carb\\'on, 25 pp.18-22 (2012), doi=None, primary_category=cond-mat.mes-hall, categories=['cond-mat.mes-hall', 'cond-mat.mtrl-sci'], links=[arxiv.Result.Link(http://arxiv.org/abs/1210.4147v1, title=None, rel=alternate, content_type=None), arxiv.Result.Link(http://arxiv.org/pdf/1210.4147v1, title=pdf, rel=related, content_type=None)]),\n",
       " arxiv.Result(entry_id=http://arxiv.org/abs/1210.4993v2, updated=2012-10-24 04:47:03+00:00, published=2012-10-18 00:08:47+00:00, title=The layer impact of DNA translocation through graphene nanopores, authors=[arxiv.Result.Author(Wenping Lv), arxiv.Result.Author(Maodu Chen), arxiv.Result.Author(Renan Wu)], summary=Graphene nanopore based sensor devices are exhibiting the great potential for\n",
       " the detection of DNA. To understand the fundamental aspects of DNA\n",
       " translocating through a graphene nanopore, in this work, molecular dynamics\n",
       " (MD) simulations and potential of mean force (PMF) calculations were carried\n",
       " out to investigate the layer impact of small graphene nanopore (2 nm-3 nm) to\n",
       " DNA translocation. It was observed that the ionic conductance was sensitive to\n",
       " graphene layer of open-nanopores, the probability for DNA translocation through\n",
       " graphene nanopore was related with the thickness of graphene nanopores. MD\n",
       " simulations showed that DNA translocation time was most sensitive to the\n",
       " thickness of graphene nanopore for a 2.4 nm aperture, and the observed free\n",
       " energy barrier of PMFs and the profile change revealed the increased\n",
       " retardation of DNA translocation through bilayer graphene nanopore as compared\n",
       " to monolayer graphene nanopore., comment=None, journal_ref=Soft Matter, 2013, doi=10.1039/C2SM26476E, primary_category=physics.bio-ph, categories=['physics.bio-ph', 'cond-mat.soft'], links=[arxiv.Result.Link(http://dx.doi.org/10.1039/C2SM26476E, title=doi, rel=related, content_type=None), arxiv.Result.Link(http://arxiv.org/abs/1210.4993v2, title=None, rel=alternate, content_type=None), arxiv.Result.Link(http://arxiv.org/pdf/1210.4993v2, title=pdf, rel=related, content_type=None)])]"
      ]
     },
     "metadata": {},
     "execution_count": 92
    }
   ],
   "source": [
    "graphene = list(arxiv.Search(query=\"graphene\", max_results=100).get())\n",
    "graphene"
   ]
  },
  {
   "cell_type": "markdown",
   "metadata": {},
   "source": [
    "Do another query for the topic \"quantum dots,\" but note that you could swap in a topic of your liking.\n",
    "\n",
    "You can define a custom arXiv API client with specialized pagination behavior. This time we'll process each paper as it's fetched rather than exhausting the result-generator into a `list`; this is useful for running analysis while the client sleeps.\n",
    "\n",
    "Because this `arxiv.Search` doesn't bound the number of results with `max_results`, it will fetch *every* matching paper (roughly 10,000). This may take several minutes."
   ]
  },
  {
   "cell_type": "code",
   "execution_count": 93,
   "metadata": {
    "tags": []
   },
   "outputs": [],
   "source": [
    "results_generator = arxiv.Client(\n",
    "  page_size=1000,\n",
    "  delay_seconds=3,\n",
    "  num_retries=3\n",
    ").get(arxiv.Search(\n",
    "  query='\"quantum dots\"',\n",
    "  id_list=[],\n",
    "  sort_by=arxiv.SortCriterion.Relevance,\n",
    "  sort_order=arxiv.SortOrder.Descending,\n",
    "))\n",
    "\n",
    "quantum_dots = []\n",
    "for paper in results_generator:\n",
    "  # You could do per-paper analysis here; for now, just collect them in a list.\n",
    "  quantum_dots.append(paper)"
   ]
  },
  {
   "cell_type": "markdown",
   "metadata": {},
   "source": [
    "## Organize and analyze your results"
   ]
  },
  {
   "cell_type": "markdown",
   "metadata": {},
   "source": [
    "Create a dataframe to better analyze your results. This example uses Python's [`vars`](https://docs.python.org/3/library/functions.html#vars) built-in function to convert search results into Python dictionaries of paper metadata."
   ]
  },
  {
   "cell_type": "code",
   "execution_count": 94,
   "metadata": {},
   "outputs": [],
   "source": [
    "qd_df = pd.DataFrame([vars(paper) for paper in quantum_dots])"
   ]
  },
  {
   "cell_type": "markdown",
   "metadata": {},
   "source": [
    "We'll look at the first 10 results."
   ]
  },
  {
   "cell_type": "code",
   "execution_count": 95,
   "metadata": {
    "tags": [
     "output_scroll",
     "full-width"
    ]
   },
   "outputs": [
    {
     "output_type": "execute_result",
     "data": {
      "text/plain": [
       "                                  entry_id                   updated  \\\n",
       "0  http://arxiv.org/abs/cond-mat/0310363v1 2003-10-15 20:15:59+00:00   \n",
       "1        http://arxiv.org/abs/2008.11666v1 2020-08-26 16:48:21+00:00   \n",
       "2  http://arxiv.org/abs/cond-mat/0411742v1 2004-11-30 02:56:15+00:00   \n",
       "3         http://arxiv.org/abs/1403.4790v1 2014-03-19 13:03:49+00:00   \n",
       "4  http://arxiv.org/abs/cond-mat/0403328v1 2004-03-12 18:28:06+00:00   \n",
       "5  http://arxiv.org/abs/cond-mat/0411484v1 2004-11-18 16:47:14+00:00   \n",
       "6         http://arxiv.org/abs/1003.2350v1 2010-03-11 15:52:09+00:00   \n",
       "7         http://arxiv.org/abs/1201.1258v1 2012-01-05 18:56:21+00:00   \n",
       "8         http://arxiv.org/abs/1206.2674v1 2012-06-12 21:00:22+00:00   \n",
       "9        http://arxiv.org/abs/1508.05462v1 2015-08-22 03:13:34+00:00   \n",
       "\n",
       "                  published  \\\n",
       "0 2003-10-15 20:15:59+00:00   \n",
       "1 2020-08-26 16:48:21+00:00   \n",
       "2 2004-11-30 02:56:15+00:00   \n",
       "3 2014-03-19 13:03:49+00:00   \n",
       "4 2004-03-12 18:28:06+00:00   \n",
       "5 2004-11-18 16:47:14+00:00   \n",
       "6 2010-03-11 15:52:09+00:00   \n",
       "7 2012-01-05 18:56:21+00:00   \n",
       "8 2012-06-12 21:00:22+00:00   \n",
       "9 2015-08-22 03:13:34+00:00   \n",
       "\n",
       "                                               title  \\\n",
       "0  Excitonic properties of strained wurtzite and ...   \n",
       "1  A two-dimensional array of single-hole quantum...   \n",
       "2  Polar optical phonons in wurtzite spheroidal q...   \n",
       "3  Group-velocity slowdown in quantum-dots and qu...   \n",
       "4  A new method to epitaxially grow long-range or...   \n",
       "5  Giant optical anisotropy in a single InAs quan...   \n",
       "6  Linewidth broadening of a quantum dot coupled ...   \n",
       "7  Photoluminescence from In0.5Ga0.5As/GaP quantu...   \n",
       "8  Effective microscopic theory of quantum dot su...   \n",
       "9  Scanning gate microscopy of ultra clean carbon...   \n",
       "\n",
       "                                             authors  \\\n",
       "0     [Vladimir A. Fonoberov, Alexander A. Balandin]   \n",
       "1  [F. van Riggelen, N. W. Hendrickx, W. I. L. La...   \n",
       "2     [Vladimir A. Fonoberov, Alexander A. Balandin]   \n",
       "3  [Stephan Michael, Weng W. Chow, Hans Christian...   \n",
       "4  [J. Bauer, D. Schuh, E. Uccelli, R. Schulz, A....   \n",
       "5  [I. Favero, Guillaume Cassabois, A. Jankovic, ...   \n",
       "6  [Arka Majumdar, Andrei Faraon, Erik Kim, Dirk ...   \n",
       "7  [Kelley Rivoire, Sonia Buckley, Yuncheng Song,...   \n",
       "8                                     [U. Aeberhard]   \n",
       "9  [Jiamin Xue, Rohan Dhall, Stephen B. Cronin, B...   \n",
       "\n",
       "                                             summary comment  \\\n",
       "0  We investigate exciton states theoretically in...    None   \n",
       "1  Quantum dots fabricated using techniques and m...    None   \n",
       "2  Polar optical-phonon modes are derived analyti...    None   \n",
       "3  We investigate theoretically the slowdown of o...    None   \n",
       "4  We report on a new approach for positioning of...    None   \n",
       "5  We present the experimental evidence of giant ...    None   \n",
       "6  We study the coupling between a photonic cryst...    None   \n",
       "7  We demonstrate room temperature visible wavele...    None   \n",
       "8  We introduce a quantum dot orbital tight-bindi...    None   \n",
       "9  We perform scanning gate microscopy on individ...    None   \n",
       "\n",
       "                                      journal_ref                         doi  \\\n",
       "0                  J. Appl. Phys. 94, 7178 (2003)           10.1063/1.1623330   \n",
       "1                                            None           10.1063/5.0037330   \n",
       "2       J. Phys.: Condens. Matter 17, 1085 (2005)  10.1088/0953-8984/17/7/003   \n",
       "3                                            None          10.1117/12.2042412   \n",
       "4                                            None                        None   \n",
       "5                                            None           10.1063/1.1854733   \n",
       "6                                            None  10.1103/PhysRevB.82.045306   \n",
       "7                                            None  10.1103/PhysRevB.85.045319   \n",
       "8  Optical and Quantum Electronics 44, 133 (2012)   10.1007/s11082-011-9529-9   \n",
       "9                                            None                        None   \n",
       "\n",
       "    primary_category                              categories  \\\n",
       "0  cond-mat.mes-hall                     [cond-mat.mes-hall]   \n",
       "1  cond-mat.mes-hall                     [cond-mat.mes-hall]   \n",
       "2  cond-mat.mes-hall                     [cond-mat.mes-hall]   \n",
       "3  cond-mat.mes-hall  [cond-mat.mes-hall, cond-mat.mtrl-sci]   \n",
       "4  cond-mat.mes-hall                     [cond-mat.mes-hall]   \n",
       "5     cond-mat.other                        [cond-mat.other]   \n",
       "6           quant-ph                              [quant-ph]   \n",
       "7           quant-ph              [quant-ph, physics.optics]   \n",
       "8  cond-mat.mes-hall  [cond-mat.mes-hall, cond-mat.mtrl-sci]   \n",
       "9  cond-mat.mes-hall                     [cond-mat.mes-hall]   \n",
       "\n",
       "                                               links  \\\n",
       "0  [http://dx.doi.org/10.1063/1.1623330, http://a...   \n",
       "1  [http://dx.doi.org/10.1063/5.0037330, http://a...   \n",
       "2  [http://dx.doi.org/10.1088/0953-8984/17/7/003,...   \n",
       "3  [http://dx.doi.org/10.1117/12.2042412, http://...   \n",
       "4  [http://arxiv.org/abs/cond-mat/0403328v1, http...   \n",
       "5  [http://dx.doi.org/10.1063/1.1854733, http://a...   \n",
       "6  [http://dx.doi.org/10.1103/PhysRevB.82.045306,...   \n",
       "7  [http://dx.doi.org/10.1103/PhysRevB.85.045319,...   \n",
       "8  [http://dx.doi.org/10.1007/s11082-011-9529-9, ...   \n",
       "9  [http://arxiv.org/abs/1508.05462v1, http://arx...   \n",
       "\n",
       "                                   pdf_url  \\\n",
       "0  http://arxiv.org/pdf/cond-mat/0310363v1   \n",
       "1        http://arxiv.org/pdf/2008.11666v1   \n",
       "2  http://arxiv.org/pdf/cond-mat/0411742v1   \n",
       "3         http://arxiv.org/pdf/1403.4790v1   \n",
       "4  http://arxiv.org/pdf/cond-mat/0403328v1   \n",
       "5  http://arxiv.org/pdf/cond-mat/0411484v1   \n",
       "6         http://arxiv.org/pdf/1003.2350v1   \n",
       "7         http://arxiv.org/pdf/1201.1258v1   \n",
       "8         http://arxiv.org/pdf/1206.2674v1   \n",
       "9        http://arxiv.org/pdf/1508.05462v1   \n",
       "\n",
       "                                                _raw  \n",
       "0  {'id': 'http://arxiv.org/abs/cond-mat/0310363v...  \n",
       "1  {'id': 'http://arxiv.org/abs/2008.11666v1', 'g...  \n",
       "2  {'id': 'http://arxiv.org/abs/cond-mat/0411742v...  \n",
       "3  {'id': 'http://arxiv.org/abs/1403.4790v1', 'gu...  \n",
       "4  {'id': 'http://arxiv.org/abs/cond-mat/0403328v...  \n",
       "5  {'id': 'http://arxiv.org/abs/cond-mat/0411484v...  \n",
       "6  {'id': 'http://arxiv.org/abs/1003.2350v1', 'gu...  \n",
       "7  {'id': 'http://arxiv.org/abs/1201.1258v1', 'gu...  \n",
       "8  {'id': 'http://arxiv.org/abs/1206.2674v1', 'gu...  \n",
       "9  {'id': 'http://arxiv.org/abs/1508.05462v1', 'g...  "
      ],
      "text/html": "<div>\n<style scoped>\n    .dataframe tbody tr th:only-of-type {\n        vertical-align: middle;\n    }\n\n    .dataframe tbody tr th {\n        vertical-align: top;\n    }\n\n    .dataframe thead th {\n        text-align: right;\n    }\n</style>\n<table border=\"1\" class=\"dataframe\">\n  <thead>\n    <tr style=\"text-align: right;\">\n      <th></th>\n      <th>entry_id</th>\n      <th>updated</th>\n      <th>published</th>\n      <th>title</th>\n      <th>authors</th>\n      <th>summary</th>\n      <th>comment</th>\n      <th>journal_ref</th>\n      <th>doi</th>\n      <th>primary_category</th>\n      <th>categories</th>\n      <th>links</th>\n      <th>pdf_url</th>\n      <th>_raw</th>\n    </tr>\n  </thead>\n  <tbody>\n    <tr>\n      <th>0</th>\n      <td>http://arxiv.org/abs/cond-mat/0310363v1</td>\n      <td>2003-10-15 20:15:59+00:00</td>\n      <td>2003-10-15 20:15:59+00:00</td>\n      <td>Excitonic properties of strained wurtzite and ...</td>\n      <td>[Vladimir A. Fonoberov, Alexander A. Balandin]</td>\n      <td>We investigate exciton states theoretically in...</td>\n      <td>None</td>\n      <td>J. Appl. Phys. 94, 7178 (2003)</td>\n      <td>10.1063/1.1623330</td>\n      <td>cond-mat.mes-hall</td>\n      <td>[cond-mat.mes-hall]</td>\n      <td>[http://dx.doi.org/10.1063/1.1623330, http://a...</td>\n      <td>http://arxiv.org/pdf/cond-mat/0310363v1</td>\n      <td>{'id': 'http://arxiv.org/abs/cond-mat/0310363v...</td>\n    </tr>\n    <tr>\n      <th>1</th>\n      <td>http://arxiv.org/abs/2008.11666v1</td>\n      <td>2020-08-26 16:48:21+00:00</td>\n      <td>2020-08-26 16:48:21+00:00</td>\n      <td>A two-dimensional array of single-hole quantum...</td>\n      <td>[F. van Riggelen, N. W. Hendrickx, W. I. L. La...</td>\n      <td>Quantum dots fabricated using techniques and m...</td>\n      <td>None</td>\n      <td>None</td>\n      <td>10.1063/5.0037330</td>\n      <td>cond-mat.mes-hall</td>\n      <td>[cond-mat.mes-hall]</td>\n      <td>[http://dx.doi.org/10.1063/5.0037330, http://a...</td>\n      <td>http://arxiv.org/pdf/2008.11666v1</td>\n      <td>{'id': 'http://arxiv.org/abs/2008.11666v1', 'g...</td>\n    </tr>\n    <tr>\n      <th>2</th>\n      <td>http://arxiv.org/abs/cond-mat/0411742v1</td>\n      <td>2004-11-30 02:56:15+00:00</td>\n      <td>2004-11-30 02:56:15+00:00</td>\n      <td>Polar optical phonons in wurtzite spheroidal q...</td>\n      <td>[Vladimir A. Fonoberov, Alexander A. Balandin]</td>\n      <td>Polar optical-phonon modes are derived analyti...</td>\n      <td>None</td>\n      <td>J. Phys.: Condens. Matter 17, 1085 (2005)</td>\n      <td>10.1088/0953-8984/17/7/003</td>\n      <td>cond-mat.mes-hall</td>\n      <td>[cond-mat.mes-hall]</td>\n      <td>[http://dx.doi.org/10.1088/0953-8984/17/7/003,...</td>\n      <td>http://arxiv.org/pdf/cond-mat/0411742v1</td>\n      <td>{'id': 'http://arxiv.org/abs/cond-mat/0411742v...</td>\n    </tr>\n    <tr>\n      <th>3</th>\n      <td>http://arxiv.org/abs/1403.4790v1</td>\n      <td>2014-03-19 13:03:49+00:00</td>\n      <td>2014-03-19 13:03:49+00:00</td>\n      <td>Group-velocity slowdown in quantum-dots and qu...</td>\n      <td>[Stephan Michael, Weng W. Chow, Hans Christian...</td>\n      <td>We investigate theoretically the slowdown of o...</td>\n      <td>None</td>\n      <td>None</td>\n      <td>10.1117/12.2042412</td>\n      <td>cond-mat.mes-hall</td>\n      <td>[cond-mat.mes-hall, cond-mat.mtrl-sci]</td>\n      <td>[http://dx.doi.org/10.1117/12.2042412, http://...</td>\n      <td>http://arxiv.org/pdf/1403.4790v1</td>\n      <td>{'id': 'http://arxiv.org/abs/1403.4790v1', 'gu...</td>\n    </tr>\n    <tr>\n      <th>4</th>\n      <td>http://arxiv.org/abs/cond-mat/0403328v1</td>\n      <td>2004-03-12 18:28:06+00:00</td>\n      <td>2004-03-12 18:28:06+00:00</td>\n      <td>A new method to epitaxially grow long-range or...</td>\n      <td>[J. Bauer, D. Schuh, E. Uccelli, R. Schulz, A....</td>\n      <td>We report on a new approach for positioning of...</td>\n      <td>None</td>\n      <td>None</td>\n      <td>None</td>\n      <td>cond-mat.mes-hall</td>\n      <td>[cond-mat.mes-hall]</td>\n      <td>[http://arxiv.org/abs/cond-mat/0403328v1, http...</td>\n      <td>http://arxiv.org/pdf/cond-mat/0403328v1</td>\n      <td>{'id': 'http://arxiv.org/abs/cond-mat/0403328v...</td>\n    </tr>\n    <tr>\n      <th>5</th>\n      <td>http://arxiv.org/abs/cond-mat/0411484v1</td>\n      <td>2004-11-18 16:47:14+00:00</td>\n      <td>2004-11-18 16:47:14+00:00</td>\n      <td>Giant optical anisotropy in a single InAs quan...</td>\n      <td>[I. Favero, Guillaume Cassabois, A. Jankovic, ...</td>\n      <td>We present the experimental evidence of giant ...</td>\n      <td>None</td>\n      <td>None</td>\n      <td>10.1063/1.1854733</td>\n      <td>cond-mat.other</td>\n      <td>[cond-mat.other]</td>\n      <td>[http://dx.doi.org/10.1063/1.1854733, http://a...</td>\n      <td>http://arxiv.org/pdf/cond-mat/0411484v1</td>\n      <td>{'id': 'http://arxiv.org/abs/cond-mat/0411484v...</td>\n    </tr>\n    <tr>\n      <th>6</th>\n      <td>http://arxiv.org/abs/1003.2350v1</td>\n      <td>2010-03-11 15:52:09+00:00</td>\n      <td>2010-03-11 15:52:09+00:00</td>\n      <td>Linewidth broadening of a quantum dot coupled ...</td>\n      <td>[Arka Majumdar, Andrei Faraon, Erik Kim, Dirk ...</td>\n      <td>We study the coupling between a photonic cryst...</td>\n      <td>None</td>\n      <td>None</td>\n      <td>10.1103/PhysRevB.82.045306</td>\n      <td>quant-ph</td>\n      <td>[quant-ph]</td>\n      <td>[http://dx.doi.org/10.1103/PhysRevB.82.045306,...</td>\n      <td>http://arxiv.org/pdf/1003.2350v1</td>\n      <td>{'id': 'http://arxiv.org/abs/1003.2350v1', 'gu...</td>\n    </tr>\n    <tr>\n      <th>7</th>\n      <td>http://arxiv.org/abs/1201.1258v1</td>\n      <td>2012-01-05 18:56:21+00:00</td>\n      <td>2012-01-05 18:56:21+00:00</td>\n      <td>Photoluminescence from In0.5Ga0.5As/GaP quantu...</td>\n      <td>[Kelley Rivoire, Sonia Buckley, Yuncheng Song,...</td>\n      <td>We demonstrate room temperature visible wavele...</td>\n      <td>None</td>\n      <td>None</td>\n      <td>10.1103/PhysRevB.85.045319</td>\n      <td>quant-ph</td>\n      <td>[quant-ph, physics.optics]</td>\n      <td>[http://dx.doi.org/10.1103/PhysRevB.85.045319,...</td>\n      <td>http://arxiv.org/pdf/1201.1258v1</td>\n      <td>{'id': 'http://arxiv.org/abs/1201.1258v1', 'gu...</td>\n    </tr>\n    <tr>\n      <th>8</th>\n      <td>http://arxiv.org/abs/1206.2674v1</td>\n      <td>2012-06-12 21:00:22+00:00</td>\n      <td>2012-06-12 21:00:22+00:00</td>\n      <td>Effective microscopic theory of quantum dot su...</td>\n      <td>[U. Aeberhard]</td>\n      <td>We introduce a quantum dot orbital tight-bindi...</td>\n      <td>None</td>\n      <td>Optical and Quantum Electronics 44, 133 (2012)</td>\n      <td>10.1007/s11082-011-9529-9</td>\n      <td>cond-mat.mes-hall</td>\n      <td>[cond-mat.mes-hall, cond-mat.mtrl-sci]</td>\n      <td>[http://dx.doi.org/10.1007/s11082-011-9529-9, ...</td>\n      <td>http://arxiv.org/pdf/1206.2674v1</td>\n      <td>{'id': 'http://arxiv.org/abs/1206.2674v1', 'gu...</td>\n    </tr>\n    <tr>\n      <th>9</th>\n      <td>http://arxiv.org/abs/1508.05462v1</td>\n      <td>2015-08-22 03:13:34+00:00</td>\n      <td>2015-08-22 03:13:34+00:00</td>\n      <td>Scanning gate microscopy of ultra clean carbon...</td>\n      <td>[Jiamin Xue, Rohan Dhall, Stephen B. Cronin, B...</td>\n      <td>We perform scanning gate microscopy on individ...</td>\n      <td>None</td>\n      <td>None</td>\n      <td>None</td>\n      <td>cond-mat.mes-hall</td>\n      <td>[cond-mat.mes-hall]</td>\n      <td>[http://arxiv.org/abs/1508.05462v1, http://arx...</td>\n      <td>http://arxiv.org/pdf/1508.05462v1</td>\n      <td>{'id': 'http://arxiv.org/abs/1508.05462v1', 'g...</td>\n    </tr>\n  </tbody>\n</table>\n</div>"
     },
     "metadata": {},
     "execution_count": 95
    }
   ],
   "source": [
    "qd_df.head(10)"
   ]
  },
  {
   "cell_type": "markdown",
   "metadata": {},
   "source": [
    "Next, we'll create list of all of the columns in the dataframe to see what else is there:"
   ]
  },
  {
   "cell_type": "code",
   "execution_count": 96,
   "metadata": {},
   "outputs": [
    {
     "output_type": "execute_result",
     "data": {
      "text/plain": [
       "['entry_id',\n",
       " 'updated',\n",
       " 'published',\n",
       " 'title',\n",
       " 'authors',\n",
       " 'summary',\n",
       " 'comment',\n",
       " 'journal_ref',\n",
       " 'doi',\n",
       " 'primary_category',\n",
       " 'categories',\n",
       " 'links',\n",
       " 'pdf_url',\n",
       " '_raw']"
      ]
     },
     "metadata": {},
     "execution_count": 96
    }
   ],
   "source": [
    "list(qd_df)"
   ]
  },
  {
   "cell_type": "markdown",
   "metadata": {},
   "source": [
    "We have 14 columns overall. We'll add two derived columns––the name of the first listed author and a reference to the original `arxiv.Result` object-–then narrow the dataframe to paper titles, `published` dates, and first authors to run some analysis of publishing patterns over time."
   ]
  },
  {
   "cell_type": "code",
   "execution_count": 97,
   "metadata": {},
   "outputs": [
    {
     "output_type": "execute_result",
     "data": {
      "text/plain": [
       "                                                   title  \\\n",
       "0      Excitonic properties of strained wurtzite and ...   \n",
       "1      A two-dimensional array of single-hole quantum...   \n",
       "2      Polar optical phonons in wurtzite spheroidal q...   \n",
       "3      Group-velocity slowdown in quantum-dots and qu...   \n",
       "4      A new method to epitaxially grow long-range or...   \n",
       "...                                                  ...   \n",
       "10532  Emergence of New Materials for Exploiting High...   \n",
       "10533  Highly transparent contacts to the 1D hole gas...   \n",
       "10534  Three-terminal nonlocal conductance in Majoran...   \n",
       "10535  Probing dark exciton navigation through a loca...   \n",
       "10536  Energy efficient manipulation of topologically...   \n",
       "\n",
       "                      published           first_author  \\\n",
       "0     2003-10-15 20:15:59+00:00  Vladimir A. Fonoberov   \n",
       "1     2020-08-26 16:48:21+00:00        F. van Riggelen   \n",
       "2     2004-11-30 02:56:15+00:00  Vladimir A. Fonoberov   \n",
       "3     2014-03-19 13:03:49+00:00        Stephan Michael   \n",
       "4     2004-03-12 18:28:06+00:00               J. Bauer   \n",
       "...                         ...                    ...   \n",
       "10532 2020-08-18 09:45:29+00:00           Sourav Maiti   \n",
       "10533 2020-08-27 06:37:22+00:00         Masiar Sistani   \n",
       "10534 2020-09-24 16:49:47+00:00            Haining Pan   \n",
       "10535 2021-03-01 15:19:51+00:00          Ryan J. Gelly   \n",
       "10536 2021-03-08 09:21:16+00:00              Anze Mraz   \n",
       "\n",
       "                                       _result  \n",
       "0      http://arxiv.org/abs/cond-mat/0310363v1  \n",
       "1            http://arxiv.org/abs/2008.11666v1  \n",
       "2      http://arxiv.org/abs/cond-mat/0411742v1  \n",
       "3             http://arxiv.org/abs/1403.4790v1  \n",
       "4      http://arxiv.org/abs/cond-mat/0403328v1  \n",
       "...                                        ...  \n",
       "10532        http://arxiv.org/abs/2008.07827v2  \n",
       "10533        http://arxiv.org/abs/2008.11938v1  \n",
       "10534        http://arxiv.org/abs/2009.11809v3  \n",
       "10535        http://arxiv.org/abs/2103.01064v1  \n",
       "10536        http://arxiv.org/abs/2103.04622v1  \n",
       "\n",
       "[10537 rows x 4 columns]"
      ],
      "text/html": "<div>\n<style scoped>\n    .dataframe tbody tr th:only-of-type {\n        vertical-align: middle;\n    }\n\n    .dataframe tbody tr th {\n        vertical-align: top;\n    }\n\n    .dataframe thead th {\n        text-align: right;\n    }\n</style>\n<table border=\"1\" class=\"dataframe\">\n  <thead>\n    <tr style=\"text-align: right;\">\n      <th></th>\n      <th>title</th>\n      <th>published</th>\n      <th>first_author</th>\n      <th>_result</th>\n    </tr>\n  </thead>\n  <tbody>\n    <tr>\n      <th>0</th>\n      <td>Excitonic properties of strained wurtzite and ...</td>\n      <td>2003-10-15 20:15:59+00:00</td>\n      <td>Vladimir A. Fonoberov</td>\n      <td>http://arxiv.org/abs/cond-mat/0310363v1</td>\n    </tr>\n    <tr>\n      <th>1</th>\n      <td>A two-dimensional array of single-hole quantum...</td>\n      <td>2020-08-26 16:48:21+00:00</td>\n      <td>F. van Riggelen</td>\n      <td>http://arxiv.org/abs/2008.11666v1</td>\n    </tr>\n    <tr>\n      <th>2</th>\n      <td>Polar optical phonons in wurtzite spheroidal q...</td>\n      <td>2004-11-30 02:56:15+00:00</td>\n      <td>Vladimir A. Fonoberov</td>\n      <td>http://arxiv.org/abs/cond-mat/0411742v1</td>\n    </tr>\n    <tr>\n      <th>3</th>\n      <td>Group-velocity slowdown in quantum-dots and qu...</td>\n      <td>2014-03-19 13:03:49+00:00</td>\n      <td>Stephan Michael</td>\n      <td>http://arxiv.org/abs/1403.4790v1</td>\n    </tr>\n    <tr>\n      <th>4</th>\n      <td>A new method to epitaxially grow long-range or...</td>\n      <td>2004-03-12 18:28:06+00:00</td>\n      <td>J. Bauer</td>\n      <td>http://arxiv.org/abs/cond-mat/0403328v1</td>\n    </tr>\n    <tr>\n      <th>...</th>\n      <td>...</td>\n      <td>...</td>\n      <td>...</td>\n      <td>...</td>\n    </tr>\n    <tr>\n      <th>10532</th>\n      <td>Emergence of New Materials for Exploiting High...</td>\n      <td>2020-08-18 09:45:29+00:00</td>\n      <td>Sourav Maiti</td>\n      <td>http://arxiv.org/abs/2008.07827v2</td>\n    </tr>\n    <tr>\n      <th>10533</th>\n      <td>Highly transparent contacts to the 1D hole gas...</td>\n      <td>2020-08-27 06:37:22+00:00</td>\n      <td>Masiar Sistani</td>\n      <td>http://arxiv.org/abs/2008.11938v1</td>\n    </tr>\n    <tr>\n      <th>10534</th>\n      <td>Three-terminal nonlocal conductance in Majoran...</td>\n      <td>2020-09-24 16:49:47+00:00</td>\n      <td>Haining Pan</td>\n      <td>http://arxiv.org/abs/2009.11809v3</td>\n    </tr>\n    <tr>\n      <th>10535</th>\n      <td>Probing dark exciton navigation through a loca...</td>\n      <td>2021-03-01 15:19:51+00:00</td>\n      <td>Ryan J. Gelly</td>\n      <td>http://arxiv.org/abs/2103.01064v1</td>\n    </tr>\n    <tr>\n      <th>10536</th>\n      <td>Energy efficient manipulation of topologically...</td>\n      <td>2021-03-08 09:21:16+00:00</td>\n      <td>Anze Mraz</td>\n      <td>http://arxiv.org/abs/2103.04622v1</td>\n    </tr>\n  </tbody>\n</table>\n<p>10537 rows × 4 columns</p>\n</div>"
     },
     "metadata": {},
     "execution_count": 97
    }
   ],
   "source": [
    "# Add a first_author column: the name of the first author among each paper's list of authors.\n",
    "qd_df['first_author'] = [authors_list[0].name for authors_list in qd_df['authors']]\n",
    "# Keep a reference to the original results in the dataframe: this is useful for downloading PDFs.\n",
    "qd_df['_result'] = quantum_dots\n",
    "\n",
    "# Narrow our dataframe to just the columns we want for our analysis.\n",
    "qd_df = qd_df[['title', 'published', 'first_author', '_result']]\n",
    "qd_df"
   ]
  },
  {
   "cell_type": "markdown",
   "metadata": {},
   "source": [
    "## Visualize your results"
   ]
  },
  {
   "cell_type": "markdown",
   "metadata": {},
   "source": [
    "Get a sense of the how your topic has trended over time. When did research on your topic take off? Create a bar chart of the number of articles published in each year."
   ]
  },
  {
   "cell_type": "code",
   "execution_count": 98,
   "metadata": {},
   "outputs": [
    {
     "output_type": "execute_result",
     "data": {
      "text/plain": [
       "<AxesSubplot:xlabel='published'>"
      ]
     },
     "metadata": {},
     "execution_count": 98
    },
    {
     "output_type": "display_data",
     "data": {
      "text/plain": "<Figure size 432x288 with 1 Axes>",
      "image/svg+xml": "<?xml version=\"1.0\" encoding=\"utf-8\" standalone=\"no\"?>\n<!DOCTYPE svg PUBLIC \"-//W3C//DTD SVG 1.1//EN\"\n  \"http://www.w3.org/Graphics/SVG/1.1/DTD/svg11.dtd\">\n<svg height=\"280.793247pt\" version=\"1.1\" viewBox=\"0 0 375.2875 280.793247\" width=\"375.2875pt\" xmlns=\"http://www.w3.org/2000/svg\" xmlns:xlink=\"http://www.w3.org/1999/xlink\">\n <metadata>\n  <rdf:RDF xmlns:cc=\"http://creativecommons.org/ns#\" xmlns:dc=\"http://purl.org/dc/elements/1.1/\" xmlns:rdf=\"http://www.w3.org/1999/02/22-rdf-syntax-ns#\">\n   <cc:Work>\n    <dc:type rdf:resource=\"http://purl.org/dc/dcmitype/StillImage\"/>\n    <dc:date>2021-04-19T21:50:23.325872</dc:date>\n    <dc:format>image/svg+xml</dc:format>\n    <dc:creator>\n     <cc:Agent>\n      <dc:title>Matplotlib v3.4.1, https://matplotlib.org/</dc:title>\n     </cc:Agent>\n    </dc:creator>\n   </cc:Work>\n  </rdf:RDF>\n </metadata>\n <defs>\n  <style type=\"text/css\">*{stroke-linecap:butt;stroke-linejoin:round;}</style>\n </defs>\n <g id=\"figure_1\">\n  <g id=\"patch_1\">\n   <path d=\"M 0 280.793247 \nL 375.2875 280.793247 \nL 375.2875 0 \nL 0 0 \nz\n\" style=\"fill:none;\"/>\n  </g>\n  <g id=\"axes_1\">\n   <g id=\"patch_2\">\n    <path d=\"M 33.2875 227.465122 \nL 368.0875 227.465122 \nL 368.0875 10.025122 \nL 33.2875 10.025122 \nz\n\" style=\"fill:#ffffff;\"/>\n   </g>\n   <g id=\"patch_3\">\n    <path clip-path=\"url(#pd9fe0650d8)\" d=\"M 36.0775 227.465122 \nL 41.6575 227.465122 \nL 41.6575 226.743569 \nL 36.0775 226.743569 \nz\n\" style=\"fill:#1f77b4;\"/>\n   </g>\n   <g id=\"patch_4\">\n    <path clip-path=\"url(#pd9fe0650d8)\" d=\"M 47.2375 227.465122 \nL 52.8175 227.465122 \nL 52.8175 223.135804 \nL 47.2375 223.135804 \nz\n\" style=\"fill:#1f77b4;\"/>\n   </g>\n   <g id=\"patch_5\">\n    <path clip-path=\"url(#pd9fe0650d8)\" d=\"M 58.3975 227.465122 \nL 63.9775 227.465122 \nL 63.9775 220.249592 \nL 58.3975 220.249592 \nz\n\" style=\"fill:#1f77b4;\"/>\n   </g>\n   <g id=\"patch_6\">\n    <path clip-path=\"url(#pd9fe0650d8)\" d=\"M 69.5575 227.465122 \nL 75.1375 227.465122 \nL 75.1375 212.673285 \nL 69.5575 212.673285 \nz\n\" style=\"fill:#1f77b4;\"/>\n   </g>\n   <g id=\"patch_7\">\n    <path clip-path=\"url(#pd9fe0650d8)\" d=\"M 80.7175 227.465122 \nL 86.2975 227.465122 \nL 86.2975 204.736202 \nL 80.7175 204.736202 \nz\n\" style=\"fill:#1f77b4;\"/>\n   </g>\n   <g id=\"patch_8\">\n    <path clip-path=\"url(#pd9fe0650d8)\" d=\"M 91.8775 227.465122 \nL 97.4575 227.465122 \nL 97.4575 196.077566 \nL 91.8775 196.077566 \nz\n\" style=\"fill:#1f77b4;\"/>\n   </g>\n   <g id=\"patch_9\">\n    <path clip-path=\"url(#pd9fe0650d8)\" d=\"M 103.0375 227.465122 \nL 108.6175 227.465122 \nL 108.6175 189.583589 \nL 103.0375 189.583589 \nz\n\" style=\"fill:#1f77b4;\"/>\n   </g>\n   <g id=\"patch_10\">\n    <path clip-path=\"url(#pd9fe0650d8)\" d=\"M 114.1975 227.465122 \nL 119.7775 227.465122 \nL 119.7775 170.823211 \nL 114.1975 170.823211 \nz\n\" style=\"fill:#1f77b4;\"/>\n   </g>\n   <g id=\"patch_11\">\n    <path clip-path=\"url(#pd9fe0650d8)\" d=\"M 125.3575 227.465122 \nL 130.9375 227.465122 \nL 130.9375 164.69001 \nL 125.3575 164.69001 \nz\n\" style=\"fill:#1f77b4;\"/>\n   </g>\n   <g id=\"patch_12\">\n    <path clip-path=\"url(#pd9fe0650d8)\" d=\"M 136.5175 227.465122 \nL 142.0975 227.465122 \nL 142.0975 141.600314 \nL 136.5175 141.600314 \nz\n\" style=\"fill:#1f77b4;\"/>\n   </g>\n   <g id=\"patch_13\">\n    <path clip-path=\"url(#pd9fe0650d8)\" d=\"M 147.6775 227.465122 \nL 153.2575 227.465122 \nL 153.2575 116.345958 \nL 147.6775 116.345958 \nz\n\" style=\"fill:#1f77b4;\"/>\n   </g>\n   <g id=\"patch_14\">\n    <path clip-path=\"url(#pd9fe0650d8)\" d=\"M 158.8375 227.465122 \nL 164.4175 227.465122 \nL 164.4175 109.851981 \nL 158.8375 109.851981 \nz\n\" style=\"fill:#1f77b4;\"/>\n   </g>\n   <g id=\"patch_15\">\n    <path clip-path=\"url(#pd9fe0650d8)\" d=\"M 169.9975 227.465122 \nL 175.5775 227.465122 \nL 175.5775 75.217437 \nL 169.9975 75.217437 \nz\n\" style=\"fill:#1f77b4;\"/>\n   </g>\n   <g id=\"patch_16\">\n    <path clip-path=\"url(#pd9fe0650d8)\" d=\"M 181.1575 227.465122 \nL 186.7375 227.465122 \nL 186.7375 73.774331 \nL 181.1575 73.774331 \nz\n\" style=\"fill:#1f77b4;\"/>\n   </g>\n   <g id=\"patch_17\">\n    <path clip-path=\"url(#pd9fe0650d8)\" d=\"M 192.3175 227.465122 \nL 197.8975 227.465122 \nL 197.8975 51.766964 \nL 192.3175 51.766964 \nz\n\" style=\"fill:#1f77b4;\"/>\n   </g>\n   <g id=\"patch_18\">\n    <path clip-path=\"url(#pd9fe0650d8)\" d=\"M 203.4775 227.465122 \nL 209.0575 227.465122 \nL 209.0575 48.880752 \nL 203.4775 48.880752 \nz\n\" style=\"fill:#1f77b4;\"/>\n   </g>\n   <g id=\"patch_19\">\n    <path clip-path=\"url(#pd9fe0650d8)\" d=\"M 214.6375 227.465122 \nL 220.2175 227.465122 \nL 220.2175 54.653176 \nL 214.6375 54.653176 \nz\n\" style=\"fill:#1f77b4;\"/>\n   </g>\n   <g id=\"patch_20\">\n    <path clip-path=\"url(#pd9fe0650d8)\" d=\"M 225.7975 227.465122 \nL 231.3775 227.465122 \nL 231.3775 42.747551 \nL 225.7975 42.747551 \nz\n\" style=\"fill:#1f77b4;\"/>\n   </g>\n   <g id=\"patch_21\">\n    <path clip-path=\"url(#pd9fe0650d8)\" d=\"M 236.9575 227.465122 \nL 242.5375 227.465122 \nL 242.5375 30.120374 \nL 236.9575 30.120374 \nz\n\" style=\"fill:#1f77b4;\"/>\n   </g>\n   <g id=\"patch_22\">\n    <path clip-path=\"url(#pd9fe0650d8)\" d=\"M 248.1175 227.465122 \nL 253.6975 227.465122 \nL 253.6975 42.025998 \nL 248.1175 42.025998 \nz\n\" style=\"fill:#1f77b4;\"/>\n   </g>\n   <g id=\"patch_23\">\n    <path clip-path=\"url(#pd9fe0650d8)\" d=\"M 259.2775 227.465122 \nL 264.8575 227.465122 \nL 264.8575 20.379408 \nL 259.2775 20.379408 \nz\n\" style=\"fill:#1f77b4;\"/>\n   </g>\n   <g id=\"patch_24\">\n    <path clip-path=\"url(#pd9fe0650d8)\" d=\"M 270.4375 227.465122 \nL 276.0175 227.465122 \nL 276.0175 25.069502 \nL 270.4375 25.069502 \nz\n\" style=\"fill:#1f77b4;\"/>\n   </g>\n   <g id=\"patch_25\">\n    <path clip-path=\"url(#pd9fe0650d8)\" d=\"M 281.5975 227.465122 \nL 287.1775 227.465122 \nL 287.1775 39.139786 \nL 281.5975 39.139786 \nz\n\" style=\"fill:#1f77b4;\"/>\n   </g>\n   <g id=\"patch_26\">\n    <path clip-path=\"url(#pd9fe0650d8)\" d=\"M 292.7575 227.465122 \nL 298.3375 227.465122 \nL 298.3375 31.56348 \nL 292.7575 31.56348 \nz\n\" style=\"fill:#1f77b4;\"/>\n   </g>\n   <g id=\"patch_27\">\n    <path clip-path=\"url(#pd9fe0650d8)\" d=\"M 303.9175 227.465122 \nL 309.4975 227.465122 \nL 309.4975 27.594938 \nL 303.9175 27.594938 \nz\n\" style=\"fill:#1f77b4;\"/>\n   </g>\n   <g id=\"patch_28\">\n    <path clip-path=\"url(#pd9fe0650d8)\" d=\"M 315.0775 227.465122 \nL 320.6575 227.465122 \nL 320.6575 26.151832 \nL 315.0775 26.151832 \nz\n\" style=\"fill:#1f77b4;\"/>\n   </g>\n   <g id=\"patch_29\">\n    <path clip-path=\"url(#pd9fe0650d8)\" d=\"M 326.2375 227.465122 \nL 331.8175 227.465122 \nL 331.8175 24.708726 \nL 326.2375 24.708726 \nz\n\" style=\"fill:#1f77b4;\"/>\n   </g>\n   <g id=\"patch_30\">\n    <path clip-path=\"url(#pd9fe0650d8)\" d=\"M 337.3975 227.465122 \nL 342.9775 227.465122 \nL 342.9775 30.48115 \nL 337.3975 30.48115 \nz\n\" style=\"fill:#1f77b4;\"/>\n   </g>\n   <g id=\"patch_31\">\n    <path clip-path=\"url(#pd9fe0650d8)\" d=\"M 348.5575 227.465122 \nL 354.1375 227.465122 \nL 354.1375 28.316491 \nL 348.5575 28.316491 \nz\n\" style=\"fill:#1f77b4;\"/>\n   </g>\n   <g id=\"patch_32\">\n    <path clip-path=\"url(#pd9fe0650d8)\" d=\"M 359.7175 227.465122 \nL 365.2975 227.465122 \nL 365.2975 173.348646 \nL 359.7175 173.348646 \nz\n\" style=\"fill:#1f77b4;\"/>\n   </g>\n   <g id=\"matplotlib.axis_1\">\n    <g id=\"xtick_1\">\n     <g id=\"line2d_1\">\n      <defs>\n       <path d=\"M 0 0 \nL 0 3.5 \n\" id=\"m2eabb7b112\" style=\"stroke:#000000;stroke-width:0.8;\"/>\n      </defs>\n      <g>\n       <use style=\"stroke:#000000;stroke-width:0.8;\" x=\"38.8675\" xlink:href=\"#m2eabb7b112\" y=\"227.465122\"/>\n      </g>\n     </g>\n     <g id=\"text_1\">\n      <!-- 1992 -->\n      <g transform=\"translate(41.626875 259.915122)rotate(-90)scale(0.1 -0.1)\">\n       <defs>\n        <path d=\"M 794 531 \nL 1825 531 \nL 1825 4091 \nL 703 3866 \nL 703 4441 \nL 1819 4666 \nL 2450 4666 \nL 2450 531 \nL 3481 531 \nL 3481 0 \nL 794 0 \nL 794 531 \nz\n\" id=\"DejaVuSans-31\" transform=\"scale(0.015625)\"/>\n        <path d=\"M 703 97 \nL 703 672 \nQ 941 559 1184 500 \nQ 1428 441 1663 441 \nQ 2288 441 2617 861 \nQ 2947 1281 2994 2138 \nQ 2813 1869 2534 1725 \nQ 2256 1581 1919 1581 \nQ 1219 1581 811 2004 \nQ 403 2428 403 3163 \nQ 403 3881 828 4315 \nQ 1253 4750 1959 4750 \nQ 2769 4750 3195 4129 \nQ 3622 3509 3622 2328 \nQ 3622 1225 3098 567 \nQ 2575 -91 1691 -91 \nQ 1453 -91 1209 -44 \nQ 966 3 703 97 \nz\nM 1959 2075 \nQ 2384 2075 2632 2365 \nQ 2881 2656 2881 3163 \nQ 2881 3666 2632 3958 \nQ 2384 4250 1959 4250 \nQ 1534 4250 1286 3958 \nQ 1038 3666 1038 3163 \nQ 1038 2656 1286 2365 \nQ 1534 2075 1959 2075 \nz\n\" id=\"DejaVuSans-39\" transform=\"scale(0.015625)\"/>\n        <path d=\"M 1228 531 \nL 3431 531 \nL 3431 0 \nL 469 0 \nL 469 531 \nQ 828 903 1448 1529 \nQ 2069 2156 2228 2338 \nQ 2531 2678 2651 2914 \nQ 2772 3150 2772 3378 \nQ 2772 3750 2511 3984 \nQ 2250 4219 1831 4219 \nQ 1534 4219 1204 4116 \nQ 875 4013 500 3803 \nL 500 4441 \nQ 881 4594 1212 4672 \nQ 1544 4750 1819 4750 \nQ 2544 4750 2975 4387 \nQ 3406 4025 3406 3419 \nQ 3406 3131 3298 2873 \nQ 3191 2616 2906 2266 \nQ 2828 2175 2409 1742 \nQ 1991 1309 1228 531 \nz\n\" id=\"DejaVuSans-32\" transform=\"scale(0.015625)\"/>\n       </defs>\n       <use xlink:href=\"#DejaVuSans-31\"/>\n       <use x=\"63.623047\" xlink:href=\"#DejaVuSans-39\"/>\n       <use x=\"127.246094\" xlink:href=\"#DejaVuSans-39\"/>\n       <use x=\"190.869141\" xlink:href=\"#DejaVuSans-32\"/>\n      </g>\n     </g>\n    </g>\n    <g id=\"xtick_2\">\n     <g id=\"line2d_2\">\n      <g>\n       <use style=\"stroke:#000000;stroke-width:0.8;\" x=\"50.0275\" xlink:href=\"#m2eabb7b112\" y=\"227.465122\"/>\n      </g>\n     </g>\n     <g id=\"text_2\">\n      <!-- 1993 -->\n      <g transform=\"translate(52.786875 259.915122)rotate(-90)scale(0.1 -0.1)\">\n       <defs>\n        <path d=\"M 2597 2516 \nQ 3050 2419 3304 2112 \nQ 3559 1806 3559 1356 \nQ 3559 666 3084 287 \nQ 2609 -91 1734 -91 \nQ 1441 -91 1130 -33 \nQ 819 25 488 141 \nL 488 750 \nQ 750 597 1062 519 \nQ 1375 441 1716 441 \nQ 2309 441 2620 675 \nQ 2931 909 2931 1356 \nQ 2931 1769 2642 2001 \nQ 2353 2234 1838 2234 \nL 1294 2234 \nL 1294 2753 \nL 1863 2753 \nQ 2328 2753 2575 2939 \nQ 2822 3125 2822 3475 \nQ 2822 3834 2567 4026 \nQ 2313 4219 1838 4219 \nQ 1578 4219 1281 4162 \nQ 984 4106 628 3988 \nL 628 4550 \nQ 988 4650 1302 4700 \nQ 1616 4750 1894 4750 \nQ 2613 4750 3031 4423 \nQ 3450 4097 3450 3541 \nQ 3450 3153 3228 2886 \nQ 3006 2619 2597 2516 \nz\n\" id=\"DejaVuSans-33\" transform=\"scale(0.015625)\"/>\n       </defs>\n       <use xlink:href=\"#DejaVuSans-31\"/>\n       <use x=\"63.623047\" xlink:href=\"#DejaVuSans-39\"/>\n       <use x=\"127.246094\" xlink:href=\"#DejaVuSans-39\"/>\n       <use x=\"190.869141\" xlink:href=\"#DejaVuSans-33\"/>\n      </g>\n     </g>\n    </g>\n    <g id=\"xtick_3\">\n     <g id=\"line2d_3\">\n      <g>\n       <use style=\"stroke:#000000;stroke-width:0.8;\" x=\"61.1875\" xlink:href=\"#m2eabb7b112\" y=\"227.465122\"/>\n      </g>\n     </g>\n     <g id=\"text_3\">\n      <!-- 1994 -->\n      <g transform=\"translate(63.946875 259.915122)rotate(-90)scale(0.1 -0.1)\">\n       <defs>\n        <path d=\"M 2419 4116 \nL 825 1625 \nL 2419 1625 \nL 2419 4116 \nz\nM 2253 4666 \nL 3047 4666 \nL 3047 1625 \nL 3713 1625 \nL 3713 1100 \nL 3047 1100 \nL 3047 0 \nL 2419 0 \nL 2419 1100 \nL 313 1100 \nL 313 1709 \nL 2253 4666 \nz\n\" id=\"DejaVuSans-34\" transform=\"scale(0.015625)\"/>\n       </defs>\n       <use xlink:href=\"#DejaVuSans-31\"/>\n       <use x=\"63.623047\" xlink:href=\"#DejaVuSans-39\"/>\n       <use x=\"127.246094\" xlink:href=\"#DejaVuSans-39\"/>\n       <use x=\"190.869141\" xlink:href=\"#DejaVuSans-34\"/>\n      </g>\n     </g>\n    </g>\n    <g id=\"xtick_4\">\n     <g id=\"line2d_4\">\n      <g>\n       <use style=\"stroke:#000000;stroke-width:0.8;\" x=\"72.3475\" xlink:href=\"#m2eabb7b112\" y=\"227.465122\"/>\n      </g>\n     </g>\n     <g id=\"text_4\">\n      <!-- 1995 -->\n      <g transform=\"translate(75.106875 259.915122)rotate(-90)scale(0.1 -0.1)\">\n       <defs>\n        <path d=\"M 691 4666 \nL 3169 4666 \nL 3169 4134 \nL 1269 4134 \nL 1269 2991 \nQ 1406 3038 1543 3061 \nQ 1681 3084 1819 3084 \nQ 2600 3084 3056 2656 \nQ 3513 2228 3513 1497 \nQ 3513 744 3044 326 \nQ 2575 -91 1722 -91 \nQ 1428 -91 1123 -41 \nQ 819 9 494 109 \nL 494 744 \nQ 775 591 1075 516 \nQ 1375 441 1709 441 \nQ 2250 441 2565 725 \nQ 2881 1009 2881 1497 \nQ 2881 1984 2565 2268 \nQ 2250 2553 1709 2553 \nQ 1456 2553 1204 2497 \nQ 953 2441 691 2322 \nL 691 4666 \nz\n\" id=\"DejaVuSans-35\" transform=\"scale(0.015625)\"/>\n       </defs>\n       <use xlink:href=\"#DejaVuSans-31\"/>\n       <use x=\"63.623047\" xlink:href=\"#DejaVuSans-39\"/>\n       <use x=\"127.246094\" xlink:href=\"#DejaVuSans-39\"/>\n       <use x=\"190.869141\" xlink:href=\"#DejaVuSans-35\"/>\n      </g>\n     </g>\n    </g>\n    <g id=\"xtick_5\">\n     <g id=\"line2d_5\">\n      <g>\n       <use style=\"stroke:#000000;stroke-width:0.8;\" x=\"83.5075\" xlink:href=\"#m2eabb7b112\" y=\"227.465122\"/>\n      </g>\n     </g>\n     <g id=\"text_5\">\n      <!-- 1996 -->\n      <g transform=\"translate(86.266875 259.915122)rotate(-90)scale(0.1 -0.1)\">\n       <defs>\n        <path d=\"M 2113 2584 \nQ 1688 2584 1439 2293 \nQ 1191 2003 1191 1497 \nQ 1191 994 1439 701 \nQ 1688 409 2113 409 \nQ 2538 409 2786 701 \nQ 3034 994 3034 1497 \nQ 3034 2003 2786 2293 \nQ 2538 2584 2113 2584 \nz\nM 3366 4563 \nL 3366 3988 \nQ 3128 4100 2886 4159 \nQ 2644 4219 2406 4219 \nQ 1781 4219 1451 3797 \nQ 1122 3375 1075 2522 \nQ 1259 2794 1537 2939 \nQ 1816 3084 2150 3084 \nQ 2853 3084 3261 2657 \nQ 3669 2231 3669 1497 \nQ 3669 778 3244 343 \nQ 2819 -91 2113 -91 \nQ 1303 -91 875 529 \nQ 447 1150 447 2328 \nQ 447 3434 972 4092 \nQ 1497 4750 2381 4750 \nQ 2619 4750 2861 4703 \nQ 3103 4656 3366 4563 \nz\n\" id=\"DejaVuSans-36\" transform=\"scale(0.015625)\"/>\n       </defs>\n       <use xlink:href=\"#DejaVuSans-31\"/>\n       <use x=\"63.623047\" xlink:href=\"#DejaVuSans-39\"/>\n       <use x=\"127.246094\" xlink:href=\"#DejaVuSans-39\"/>\n       <use x=\"190.869141\" xlink:href=\"#DejaVuSans-36\"/>\n      </g>\n     </g>\n    </g>\n    <g id=\"xtick_6\">\n     <g id=\"line2d_6\">\n      <g>\n       <use style=\"stroke:#000000;stroke-width:0.8;\" x=\"94.6675\" xlink:href=\"#m2eabb7b112\" y=\"227.465122\"/>\n      </g>\n     </g>\n     <g id=\"text_6\">\n      <!-- 1997 -->\n      <g transform=\"translate(97.426875 259.915122)rotate(-90)scale(0.1 -0.1)\">\n       <defs>\n        <path d=\"M 525 4666 \nL 3525 4666 \nL 3525 4397 \nL 1831 0 \nL 1172 0 \nL 2766 4134 \nL 525 4134 \nL 525 4666 \nz\n\" id=\"DejaVuSans-37\" transform=\"scale(0.015625)\"/>\n       </defs>\n       <use xlink:href=\"#DejaVuSans-31\"/>\n       <use x=\"63.623047\" xlink:href=\"#DejaVuSans-39\"/>\n       <use x=\"127.246094\" xlink:href=\"#DejaVuSans-39\"/>\n       <use x=\"190.869141\" xlink:href=\"#DejaVuSans-37\"/>\n      </g>\n     </g>\n    </g>\n    <g id=\"xtick_7\">\n     <g id=\"line2d_7\">\n      <g>\n       <use style=\"stroke:#000000;stroke-width:0.8;\" x=\"105.8275\" xlink:href=\"#m2eabb7b112\" y=\"227.465122\"/>\n      </g>\n     </g>\n     <g id=\"text_7\">\n      <!-- 1998 -->\n      <g transform=\"translate(108.586875 259.915122)rotate(-90)scale(0.1 -0.1)\">\n       <defs>\n        <path d=\"M 2034 2216 \nQ 1584 2216 1326 1975 \nQ 1069 1734 1069 1313 \nQ 1069 891 1326 650 \nQ 1584 409 2034 409 \nQ 2484 409 2743 651 \nQ 3003 894 3003 1313 \nQ 3003 1734 2745 1975 \nQ 2488 2216 2034 2216 \nz\nM 1403 2484 \nQ 997 2584 770 2862 \nQ 544 3141 544 3541 \nQ 544 4100 942 4425 \nQ 1341 4750 2034 4750 \nQ 2731 4750 3128 4425 \nQ 3525 4100 3525 3541 \nQ 3525 3141 3298 2862 \nQ 3072 2584 2669 2484 \nQ 3125 2378 3379 2068 \nQ 3634 1759 3634 1313 \nQ 3634 634 3220 271 \nQ 2806 -91 2034 -91 \nQ 1263 -91 848 271 \nQ 434 634 434 1313 \nQ 434 1759 690 2068 \nQ 947 2378 1403 2484 \nz\nM 1172 3481 \nQ 1172 3119 1398 2916 \nQ 1625 2713 2034 2713 \nQ 2441 2713 2670 2916 \nQ 2900 3119 2900 3481 \nQ 2900 3844 2670 4047 \nQ 2441 4250 2034 4250 \nQ 1625 4250 1398 4047 \nQ 1172 3844 1172 3481 \nz\n\" id=\"DejaVuSans-38\" transform=\"scale(0.015625)\"/>\n       </defs>\n       <use xlink:href=\"#DejaVuSans-31\"/>\n       <use x=\"63.623047\" xlink:href=\"#DejaVuSans-39\"/>\n       <use x=\"127.246094\" xlink:href=\"#DejaVuSans-39\"/>\n       <use x=\"190.869141\" xlink:href=\"#DejaVuSans-38\"/>\n      </g>\n     </g>\n    </g>\n    <g id=\"xtick_8\">\n     <g id=\"line2d_8\">\n      <g>\n       <use style=\"stroke:#000000;stroke-width:0.8;\" x=\"116.9875\" xlink:href=\"#m2eabb7b112\" y=\"227.465122\"/>\n      </g>\n     </g>\n     <g id=\"text_8\">\n      <!-- 1999 -->\n      <g transform=\"translate(119.746875 259.915122)rotate(-90)scale(0.1 -0.1)\">\n       <use xlink:href=\"#DejaVuSans-31\"/>\n       <use x=\"63.623047\" xlink:href=\"#DejaVuSans-39\"/>\n       <use x=\"127.246094\" xlink:href=\"#DejaVuSans-39\"/>\n       <use x=\"190.869141\" xlink:href=\"#DejaVuSans-39\"/>\n      </g>\n     </g>\n    </g>\n    <g id=\"xtick_9\">\n     <g id=\"line2d_9\">\n      <g>\n       <use style=\"stroke:#000000;stroke-width:0.8;\" x=\"128.1475\" xlink:href=\"#m2eabb7b112\" y=\"227.465122\"/>\n      </g>\n     </g>\n     <g id=\"text_9\">\n      <!-- 2000 -->\n      <g transform=\"translate(130.906875 259.915122)rotate(-90)scale(0.1 -0.1)\">\n       <defs>\n        <path d=\"M 2034 4250 \nQ 1547 4250 1301 3770 \nQ 1056 3291 1056 2328 \nQ 1056 1369 1301 889 \nQ 1547 409 2034 409 \nQ 2525 409 2770 889 \nQ 3016 1369 3016 2328 \nQ 3016 3291 2770 3770 \nQ 2525 4250 2034 4250 \nz\nM 2034 4750 \nQ 2819 4750 3233 4129 \nQ 3647 3509 3647 2328 \nQ 3647 1150 3233 529 \nQ 2819 -91 2034 -91 \nQ 1250 -91 836 529 \nQ 422 1150 422 2328 \nQ 422 3509 836 4129 \nQ 1250 4750 2034 4750 \nz\n\" id=\"DejaVuSans-30\" transform=\"scale(0.015625)\"/>\n       </defs>\n       <use xlink:href=\"#DejaVuSans-32\"/>\n       <use x=\"63.623047\" xlink:href=\"#DejaVuSans-30\"/>\n       <use x=\"127.246094\" xlink:href=\"#DejaVuSans-30\"/>\n       <use x=\"190.869141\" xlink:href=\"#DejaVuSans-30\"/>\n      </g>\n     </g>\n    </g>\n    <g id=\"xtick_10\">\n     <g id=\"line2d_10\">\n      <g>\n       <use style=\"stroke:#000000;stroke-width:0.8;\" x=\"139.3075\" xlink:href=\"#m2eabb7b112\" y=\"227.465122\"/>\n      </g>\n     </g>\n     <g id=\"text_10\">\n      <!-- 2001 -->\n      <g transform=\"translate(142.066875 259.915122)rotate(-90)scale(0.1 -0.1)\">\n       <use xlink:href=\"#DejaVuSans-32\"/>\n       <use x=\"63.623047\" xlink:href=\"#DejaVuSans-30\"/>\n       <use x=\"127.246094\" xlink:href=\"#DejaVuSans-30\"/>\n       <use x=\"190.869141\" xlink:href=\"#DejaVuSans-31\"/>\n      </g>\n     </g>\n    </g>\n    <g id=\"xtick_11\">\n     <g id=\"line2d_11\">\n      <g>\n       <use style=\"stroke:#000000;stroke-width:0.8;\" x=\"150.4675\" xlink:href=\"#m2eabb7b112\" y=\"227.465122\"/>\n      </g>\n     </g>\n     <g id=\"text_11\">\n      <!-- 2002 -->\n      <g transform=\"translate(153.226875 259.915122)rotate(-90)scale(0.1 -0.1)\">\n       <use xlink:href=\"#DejaVuSans-32\"/>\n       <use x=\"63.623047\" xlink:href=\"#DejaVuSans-30\"/>\n       <use x=\"127.246094\" xlink:href=\"#DejaVuSans-30\"/>\n       <use x=\"190.869141\" xlink:href=\"#DejaVuSans-32\"/>\n      </g>\n     </g>\n    </g>\n    <g id=\"xtick_12\">\n     <g id=\"line2d_12\">\n      <g>\n       <use style=\"stroke:#000000;stroke-width:0.8;\" x=\"161.6275\" xlink:href=\"#m2eabb7b112\" y=\"227.465122\"/>\n      </g>\n     </g>\n     <g id=\"text_12\">\n      <!-- 2003 -->\n      <g transform=\"translate(164.386875 259.915122)rotate(-90)scale(0.1 -0.1)\">\n       <use xlink:href=\"#DejaVuSans-32\"/>\n       <use x=\"63.623047\" xlink:href=\"#DejaVuSans-30\"/>\n       <use x=\"127.246094\" xlink:href=\"#DejaVuSans-30\"/>\n       <use x=\"190.869141\" xlink:href=\"#DejaVuSans-33\"/>\n      </g>\n     </g>\n    </g>\n    <g id=\"xtick_13\">\n     <g id=\"line2d_13\">\n      <g>\n       <use style=\"stroke:#000000;stroke-width:0.8;\" x=\"172.7875\" xlink:href=\"#m2eabb7b112\" y=\"227.465122\"/>\n      </g>\n     </g>\n     <g id=\"text_13\">\n      <!-- 2004 -->\n      <g transform=\"translate(175.546875 259.915122)rotate(-90)scale(0.1 -0.1)\">\n       <use xlink:href=\"#DejaVuSans-32\"/>\n       <use x=\"63.623047\" xlink:href=\"#DejaVuSans-30\"/>\n       <use x=\"127.246094\" xlink:href=\"#DejaVuSans-30\"/>\n       <use x=\"190.869141\" xlink:href=\"#DejaVuSans-34\"/>\n      </g>\n     </g>\n    </g>\n    <g id=\"xtick_14\">\n     <g id=\"line2d_14\">\n      <g>\n       <use style=\"stroke:#000000;stroke-width:0.8;\" x=\"183.9475\" xlink:href=\"#m2eabb7b112\" y=\"227.465122\"/>\n      </g>\n     </g>\n     <g id=\"text_14\">\n      <!-- 2005 -->\n      <g transform=\"translate(186.706875 259.915122)rotate(-90)scale(0.1 -0.1)\">\n       <use xlink:href=\"#DejaVuSans-32\"/>\n       <use x=\"63.623047\" xlink:href=\"#DejaVuSans-30\"/>\n       <use x=\"127.246094\" xlink:href=\"#DejaVuSans-30\"/>\n       <use x=\"190.869141\" xlink:href=\"#DejaVuSans-35\"/>\n      </g>\n     </g>\n    </g>\n    <g id=\"xtick_15\">\n     <g id=\"line2d_15\">\n      <g>\n       <use style=\"stroke:#000000;stroke-width:0.8;\" x=\"195.1075\" xlink:href=\"#m2eabb7b112\" y=\"227.465122\"/>\n      </g>\n     </g>\n     <g id=\"text_15\">\n      <!-- 2006 -->\n      <g transform=\"translate(197.866875 259.915122)rotate(-90)scale(0.1 -0.1)\">\n       <use xlink:href=\"#DejaVuSans-32\"/>\n       <use x=\"63.623047\" xlink:href=\"#DejaVuSans-30\"/>\n       <use x=\"127.246094\" xlink:href=\"#DejaVuSans-30\"/>\n       <use x=\"190.869141\" xlink:href=\"#DejaVuSans-36\"/>\n      </g>\n     </g>\n    </g>\n    <g id=\"xtick_16\">\n     <g id=\"line2d_16\">\n      <g>\n       <use style=\"stroke:#000000;stroke-width:0.8;\" x=\"206.2675\" xlink:href=\"#m2eabb7b112\" y=\"227.465122\"/>\n      </g>\n     </g>\n     <g id=\"text_16\">\n      <!-- 2007 -->\n      <g transform=\"translate(209.026875 259.915122)rotate(-90)scale(0.1 -0.1)\">\n       <use xlink:href=\"#DejaVuSans-32\"/>\n       <use x=\"63.623047\" xlink:href=\"#DejaVuSans-30\"/>\n       <use x=\"127.246094\" xlink:href=\"#DejaVuSans-30\"/>\n       <use x=\"190.869141\" xlink:href=\"#DejaVuSans-37\"/>\n      </g>\n     </g>\n    </g>\n    <g id=\"xtick_17\">\n     <g id=\"line2d_17\">\n      <g>\n       <use style=\"stroke:#000000;stroke-width:0.8;\" x=\"217.4275\" xlink:href=\"#m2eabb7b112\" y=\"227.465122\"/>\n      </g>\n     </g>\n     <g id=\"text_17\">\n      <!-- 2008 -->\n      <g transform=\"translate(220.186875 259.915122)rotate(-90)scale(0.1 -0.1)\">\n       <use xlink:href=\"#DejaVuSans-32\"/>\n       <use x=\"63.623047\" xlink:href=\"#DejaVuSans-30\"/>\n       <use x=\"127.246094\" xlink:href=\"#DejaVuSans-30\"/>\n       <use x=\"190.869141\" xlink:href=\"#DejaVuSans-38\"/>\n      </g>\n     </g>\n    </g>\n    <g id=\"xtick_18\">\n     <g id=\"line2d_18\">\n      <g>\n       <use style=\"stroke:#000000;stroke-width:0.8;\" x=\"228.5875\" xlink:href=\"#m2eabb7b112\" y=\"227.465122\"/>\n      </g>\n     </g>\n     <g id=\"text_18\">\n      <!-- 2009 -->\n      <g transform=\"translate(231.346875 259.915122)rotate(-90)scale(0.1 -0.1)\">\n       <use xlink:href=\"#DejaVuSans-32\"/>\n       <use x=\"63.623047\" xlink:href=\"#DejaVuSans-30\"/>\n       <use x=\"127.246094\" xlink:href=\"#DejaVuSans-30\"/>\n       <use x=\"190.869141\" xlink:href=\"#DejaVuSans-39\"/>\n      </g>\n     </g>\n    </g>\n    <g id=\"xtick_19\">\n     <g id=\"line2d_19\">\n      <g>\n       <use style=\"stroke:#000000;stroke-width:0.8;\" x=\"239.7475\" xlink:href=\"#m2eabb7b112\" y=\"227.465122\"/>\n      </g>\n     </g>\n     <g id=\"text_19\">\n      <!-- 2010 -->\n      <g transform=\"translate(242.506875 259.915122)rotate(-90)scale(0.1 -0.1)\">\n       <use xlink:href=\"#DejaVuSans-32\"/>\n       <use x=\"63.623047\" xlink:href=\"#DejaVuSans-30\"/>\n       <use x=\"127.246094\" xlink:href=\"#DejaVuSans-31\"/>\n       <use x=\"190.869141\" xlink:href=\"#DejaVuSans-30\"/>\n      </g>\n     </g>\n    </g>\n    <g id=\"xtick_20\">\n     <g id=\"line2d_20\">\n      <g>\n       <use style=\"stroke:#000000;stroke-width:0.8;\" x=\"250.9075\" xlink:href=\"#m2eabb7b112\" y=\"227.465122\"/>\n      </g>\n     </g>\n     <g id=\"text_20\">\n      <!-- 2011 -->\n      <g transform=\"translate(253.666875 259.915122)rotate(-90)scale(0.1 -0.1)\">\n       <use xlink:href=\"#DejaVuSans-32\"/>\n       <use x=\"63.623047\" xlink:href=\"#DejaVuSans-30\"/>\n       <use x=\"127.246094\" xlink:href=\"#DejaVuSans-31\"/>\n       <use x=\"190.869141\" xlink:href=\"#DejaVuSans-31\"/>\n      </g>\n     </g>\n    </g>\n    <g id=\"xtick_21\">\n     <g id=\"line2d_21\">\n      <g>\n       <use style=\"stroke:#000000;stroke-width:0.8;\" x=\"262.0675\" xlink:href=\"#m2eabb7b112\" y=\"227.465122\"/>\n      </g>\n     </g>\n     <g id=\"text_21\">\n      <!-- 2012 -->\n      <g transform=\"translate(264.826875 259.915122)rotate(-90)scale(0.1 -0.1)\">\n       <use xlink:href=\"#DejaVuSans-32\"/>\n       <use x=\"63.623047\" xlink:href=\"#DejaVuSans-30\"/>\n       <use x=\"127.246094\" xlink:href=\"#DejaVuSans-31\"/>\n       <use x=\"190.869141\" xlink:href=\"#DejaVuSans-32\"/>\n      </g>\n     </g>\n    </g>\n    <g id=\"xtick_22\">\n     <g id=\"line2d_22\">\n      <g>\n       <use style=\"stroke:#000000;stroke-width:0.8;\" x=\"273.2275\" xlink:href=\"#m2eabb7b112\" y=\"227.465122\"/>\n      </g>\n     </g>\n     <g id=\"text_22\">\n      <!-- 2013 -->\n      <g transform=\"translate(275.986875 259.915122)rotate(-90)scale(0.1 -0.1)\">\n       <use xlink:href=\"#DejaVuSans-32\"/>\n       <use x=\"63.623047\" xlink:href=\"#DejaVuSans-30\"/>\n       <use x=\"127.246094\" xlink:href=\"#DejaVuSans-31\"/>\n       <use x=\"190.869141\" xlink:href=\"#DejaVuSans-33\"/>\n      </g>\n     </g>\n    </g>\n    <g id=\"xtick_23\">\n     <g id=\"line2d_23\">\n      <g>\n       <use style=\"stroke:#000000;stroke-width:0.8;\" x=\"284.3875\" xlink:href=\"#m2eabb7b112\" y=\"227.465122\"/>\n      </g>\n     </g>\n     <g id=\"text_23\">\n      <!-- 2014 -->\n      <g transform=\"translate(287.146875 259.915122)rotate(-90)scale(0.1 -0.1)\">\n       <use xlink:href=\"#DejaVuSans-32\"/>\n       <use x=\"63.623047\" xlink:href=\"#DejaVuSans-30\"/>\n       <use x=\"127.246094\" xlink:href=\"#DejaVuSans-31\"/>\n       <use x=\"190.869141\" xlink:href=\"#DejaVuSans-34\"/>\n      </g>\n     </g>\n    </g>\n    <g id=\"xtick_24\">\n     <g id=\"line2d_24\">\n      <g>\n       <use style=\"stroke:#000000;stroke-width:0.8;\" x=\"295.5475\" xlink:href=\"#m2eabb7b112\" y=\"227.465122\"/>\n      </g>\n     </g>\n     <g id=\"text_24\">\n      <!-- 2015 -->\n      <g transform=\"translate(298.306875 259.915122)rotate(-90)scale(0.1 -0.1)\">\n       <use xlink:href=\"#DejaVuSans-32\"/>\n       <use x=\"63.623047\" xlink:href=\"#DejaVuSans-30\"/>\n       <use x=\"127.246094\" xlink:href=\"#DejaVuSans-31\"/>\n       <use x=\"190.869141\" xlink:href=\"#DejaVuSans-35\"/>\n      </g>\n     </g>\n    </g>\n    <g id=\"xtick_25\">\n     <g id=\"line2d_25\">\n      <g>\n       <use style=\"stroke:#000000;stroke-width:0.8;\" x=\"306.7075\" xlink:href=\"#m2eabb7b112\" y=\"227.465122\"/>\n      </g>\n     </g>\n     <g id=\"text_25\">\n      <!-- 2016 -->\n      <g transform=\"translate(309.466875 259.915122)rotate(-90)scale(0.1 -0.1)\">\n       <use xlink:href=\"#DejaVuSans-32\"/>\n       <use x=\"63.623047\" xlink:href=\"#DejaVuSans-30\"/>\n       <use x=\"127.246094\" xlink:href=\"#DejaVuSans-31\"/>\n       <use x=\"190.869141\" xlink:href=\"#DejaVuSans-36\"/>\n      </g>\n     </g>\n    </g>\n    <g id=\"xtick_26\">\n     <g id=\"line2d_26\">\n      <g>\n       <use style=\"stroke:#000000;stroke-width:0.8;\" x=\"317.8675\" xlink:href=\"#m2eabb7b112\" y=\"227.465122\"/>\n      </g>\n     </g>\n     <g id=\"text_26\">\n      <!-- 2017 -->\n      <g transform=\"translate(320.626875 259.915122)rotate(-90)scale(0.1 -0.1)\">\n       <use xlink:href=\"#DejaVuSans-32\"/>\n       <use x=\"63.623047\" xlink:href=\"#DejaVuSans-30\"/>\n       <use x=\"127.246094\" xlink:href=\"#DejaVuSans-31\"/>\n       <use x=\"190.869141\" xlink:href=\"#DejaVuSans-37\"/>\n      </g>\n     </g>\n    </g>\n    <g id=\"xtick_27\">\n     <g id=\"line2d_27\">\n      <g>\n       <use style=\"stroke:#000000;stroke-width:0.8;\" x=\"329.0275\" xlink:href=\"#m2eabb7b112\" y=\"227.465122\"/>\n      </g>\n     </g>\n     <g id=\"text_27\">\n      <!-- 2018 -->\n      <g transform=\"translate(331.786875 259.915122)rotate(-90)scale(0.1 -0.1)\">\n       <use xlink:href=\"#DejaVuSans-32\"/>\n       <use x=\"63.623047\" xlink:href=\"#DejaVuSans-30\"/>\n       <use x=\"127.246094\" xlink:href=\"#DejaVuSans-31\"/>\n       <use x=\"190.869141\" xlink:href=\"#DejaVuSans-38\"/>\n      </g>\n     </g>\n    </g>\n    <g id=\"xtick_28\">\n     <g id=\"line2d_28\">\n      <g>\n       <use style=\"stroke:#000000;stroke-width:0.8;\" x=\"340.1875\" xlink:href=\"#m2eabb7b112\" y=\"227.465122\"/>\n      </g>\n     </g>\n     <g id=\"text_28\">\n      <!-- 2019 -->\n      <g transform=\"translate(342.946875 259.915122)rotate(-90)scale(0.1 -0.1)\">\n       <use xlink:href=\"#DejaVuSans-32\"/>\n       <use x=\"63.623047\" xlink:href=\"#DejaVuSans-30\"/>\n       <use x=\"127.246094\" xlink:href=\"#DejaVuSans-31\"/>\n       <use x=\"190.869141\" xlink:href=\"#DejaVuSans-39\"/>\n      </g>\n     </g>\n    </g>\n    <g id=\"xtick_29\">\n     <g id=\"line2d_29\">\n      <g>\n       <use style=\"stroke:#000000;stroke-width:0.8;\" x=\"351.3475\" xlink:href=\"#m2eabb7b112\" y=\"227.465122\"/>\n      </g>\n     </g>\n     <g id=\"text_29\">\n      <!-- 2020 -->\n      <g transform=\"translate(354.106875 259.915122)rotate(-90)scale(0.1 -0.1)\">\n       <use xlink:href=\"#DejaVuSans-32\"/>\n       <use x=\"63.623047\" xlink:href=\"#DejaVuSans-30\"/>\n       <use x=\"127.246094\" xlink:href=\"#DejaVuSans-32\"/>\n       <use x=\"190.869141\" xlink:href=\"#DejaVuSans-30\"/>\n      </g>\n     </g>\n    </g>\n    <g id=\"xtick_30\">\n     <g id=\"line2d_30\">\n      <g>\n       <use style=\"stroke:#000000;stroke-width:0.8;\" x=\"362.5075\" xlink:href=\"#m2eabb7b112\" y=\"227.465122\"/>\n      </g>\n     </g>\n     <g id=\"text_30\">\n      <!-- 2021 -->\n      <g transform=\"translate(365.266875 259.915122)rotate(-90)scale(0.1 -0.1)\">\n       <use xlink:href=\"#DejaVuSans-32\"/>\n       <use x=\"63.623047\" xlink:href=\"#DejaVuSans-30\"/>\n       <use x=\"127.246094\" xlink:href=\"#DejaVuSans-32\"/>\n       <use x=\"190.869141\" xlink:href=\"#DejaVuSans-31\"/>\n      </g>\n     </g>\n    </g>\n    <g id=\"text_31\">\n     <!-- published -->\n     <g transform=\"translate(176.367969 271.51356)scale(0.1 -0.1)\">\n      <defs>\n       <path d=\"M 1159 525 \nL 1159 -1331 \nL 581 -1331 \nL 581 3500 \nL 1159 3500 \nL 1159 2969 \nQ 1341 3281 1617 3432 \nQ 1894 3584 2278 3584 \nQ 2916 3584 3314 3078 \nQ 3713 2572 3713 1747 \nQ 3713 922 3314 415 \nQ 2916 -91 2278 -91 \nQ 1894 -91 1617 61 \nQ 1341 213 1159 525 \nz\nM 3116 1747 \nQ 3116 2381 2855 2742 \nQ 2594 3103 2138 3103 \nQ 1681 3103 1420 2742 \nQ 1159 2381 1159 1747 \nQ 1159 1113 1420 752 \nQ 1681 391 2138 391 \nQ 2594 391 2855 752 \nQ 3116 1113 3116 1747 \nz\n\" id=\"DejaVuSans-70\" transform=\"scale(0.015625)\"/>\n       <path d=\"M 544 1381 \nL 544 3500 \nL 1119 3500 \nL 1119 1403 \nQ 1119 906 1312 657 \nQ 1506 409 1894 409 \nQ 2359 409 2629 706 \nQ 2900 1003 2900 1516 \nL 2900 3500 \nL 3475 3500 \nL 3475 0 \nL 2900 0 \nL 2900 538 \nQ 2691 219 2414 64 \nQ 2138 -91 1772 -91 \nQ 1169 -91 856 284 \nQ 544 659 544 1381 \nz\nM 1991 3584 \nL 1991 3584 \nz\n\" id=\"DejaVuSans-75\" transform=\"scale(0.015625)\"/>\n       <path d=\"M 3116 1747 \nQ 3116 2381 2855 2742 \nQ 2594 3103 2138 3103 \nQ 1681 3103 1420 2742 \nQ 1159 2381 1159 1747 \nQ 1159 1113 1420 752 \nQ 1681 391 2138 391 \nQ 2594 391 2855 752 \nQ 3116 1113 3116 1747 \nz\nM 1159 2969 \nQ 1341 3281 1617 3432 \nQ 1894 3584 2278 3584 \nQ 2916 3584 3314 3078 \nQ 3713 2572 3713 1747 \nQ 3713 922 3314 415 \nQ 2916 -91 2278 -91 \nQ 1894 -91 1617 61 \nQ 1341 213 1159 525 \nL 1159 0 \nL 581 0 \nL 581 4863 \nL 1159 4863 \nL 1159 2969 \nz\n\" id=\"DejaVuSans-62\" transform=\"scale(0.015625)\"/>\n       <path d=\"M 603 4863 \nL 1178 4863 \nL 1178 0 \nL 603 0 \nL 603 4863 \nz\n\" id=\"DejaVuSans-6c\" transform=\"scale(0.015625)\"/>\n       <path d=\"M 603 3500 \nL 1178 3500 \nL 1178 0 \nL 603 0 \nL 603 3500 \nz\nM 603 4863 \nL 1178 4863 \nL 1178 4134 \nL 603 4134 \nL 603 4863 \nz\n\" id=\"DejaVuSans-69\" transform=\"scale(0.015625)\"/>\n       <path d=\"M 2834 3397 \nL 2834 2853 \nQ 2591 2978 2328 3040 \nQ 2066 3103 1784 3103 \nQ 1356 3103 1142 2972 \nQ 928 2841 928 2578 \nQ 928 2378 1081 2264 \nQ 1234 2150 1697 2047 \nL 1894 2003 \nQ 2506 1872 2764 1633 \nQ 3022 1394 3022 966 \nQ 3022 478 2636 193 \nQ 2250 -91 1575 -91 \nQ 1294 -91 989 -36 \nQ 684 19 347 128 \nL 347 722 \nQ 666 556 975 473 \nQ 1284 391 1588 391 \nQ 1994 391 2212 530 \nQ 2431 669 2431 922 \nQ 2431 1156 2273 1281 \nQ 2116 1406 1581 1522 \nL 1381 1569 \nQ 847 1681 609 1914 \nQ 372 2147 372 2553 \nQ 372 3047 722 3315 \nQ 1072 3584 1716 3584 \nQ 2034 3584 2315 3537 \nQ 2597 3491 2834 3397 \nz\n\" id=\"DejaVuSans-73\" transform=\"scale(0.015625)\"/>\n       <path d=\"M 3513 2113 \nL 3513 0 \nL 2938 0 \nL 2938 2094 \nQ 2938 2591 2744 2837 \nQ 2550 3084 2163 3084 \nQ 1697 3084 1428 2787 \nQ 1159 2491 1159 1978 \nL 1159 0 \nL 581 0 \nL 581 4863 \nL 1159 4863 \nL 1159 2956 \nQ 1366 3272 1645 3428 \nQ 1925 3584 2291 3584 \nQ 2894 3584 3203 3211 \nQ 3513 2838 3513 2113 \nz\n\" id=\"DejaVuSans-68\" transform=\"scale(0.015625)\"/>\n       <path d=\"M 3597 1894 \nL 3597 1613 \nL 953 1613 \nQ 991 1019 1311 708 \nQ 1631 397 2203 397 \nQ 2534 397 2845 478 \nQ 3156 559 3463 722 \nL 3463 178 \nQ 3153 47 2828 -22 \nQ 2503 -91 2169 -91 \nQ 1331 -91 842 396 \nQ 353 884 353 1716 \nQ 353 2575 817 3079 \nQ 1281 3584 2069 3584 \nQ 2775 3584 3186 3129 \nQ 3597 2675 3597 1894 \nz\nM 3022 2063 \nQ 3016 2534 2758 2815 \nQ 2500 3097 2075 3097 \nQ 1594 3097 1305 2825 \nQ 1016 2553 972 2059 \nL 3022 2063 \nz\n\" id=\"DejaVuSans-65\" transform=\"scale(0.015625)\"/>\n       <path d=\"M 2906 2969 \nL 2906 4863 \nL 3481 4863 \nL 3481 0 \nL 2906 0 \nL 2906 525 \nQ 2725 213 2448 61 \nQ 2172 -91 1784 -91 \nQ 1150 -91 751 415 \nQ 353 922 353 1747 \nQ 353 2572 751 3078 \nQ 1150 3584 1784 3584 \nQ 2172 3584 2448 3432 \nQ 2725 3281 2906 2969 \nz\nM 947 1747 \nQ 947 1113 1208 752 \nQ 1469 391 1925 391 \nQ 2381 391 2643 752 \nQ 2906 1113 2906 1747 \nQ 2906 2381 2643 2742 \nQ 2381 3103 1925 3103 \nQ 1469 3103 1208 2742 \nQ 947 2381 947 1747 \nz\n\" id=\"DejaVuSans-64\" transform=\"scale(0.015625)\"/>\n      </defs>\n      <use xlink:href=\"#DejaVuSans-70\"/>\n      <use x=\"63.476562\" xlink:href=\"#DejaVuSans-75\"/>\n      <use x=\"126.855469\" xlink:href=\"#DejaVuSans-62\"/>\n      <use x=\"190.332031\" xlink:href=\"#DejaVuSans-6c\"/>\n      <use x=\"218.115234\" xlink:href=\"#DejaVuSans-69\"/>\n      <use x=\"245.898438\" xlink:href=\"#DejaVuSans-73\"/>\n      <use x=\"297.998047\" xlink:href=\"#DejaVuSans-68\"/>\n      <use x=\"361.376953\" xlink:href=\"#DejaVuSans-65\"/>\n      <use x=\"422.900391\" xlink:href=\"#DejaVuSans-64\"/>\n     </g>\n    </g>\n   </g>\n   <g id=\"matplotlib.axis_2\">\n    <g id=\"ytick_1\">\n     <g id=\"line2d_31\">\n      <defs>\n       <path d=\"M 0 0 \nL -3.5 0 \n\" id=\"mea59e975b2\" style=\"stroke:#000000;stroke-width:0.8;\"/>\n      </defs>\n      <g>\n       <use style=\"stroke:#000000;stroke-width:0.8;\" x=\"33.2875\" xlink:href=\"#mea59e975b2\" y=\"227.465122\"/>\n      </g>\n     </g>\n     <g id=\"text_32\">\n      <!-- 0 -->\n      <g transform=\"translate(19.925 231.264341)scale(0.1 -0.1)\">\n       <use xlink:href=\"#DejaVuSans-30\"/>\n      </g>\n     </g>\n    </g>\n    <g id=\"ytick_2\">\n     <g id=\"line2d_32\">\n      <g>\n       <use style=\"stroke:#000000;stroke-width:0.8;\" x=\"33.2875\" xlink:href=\"#mea59e975b2\" y=\"191.387472\"/>\n      </g>\n     </g>\n     <g id=\"text_33\">\n      <!-- 100 -->\n      <g transform=\"translate(7.2 195.18669)scale(0.1 -0.1)\">\n       <use xlink:href=\"#DejaVuSans-31\"/>\n       <use x=\"63.623047\" xlink:href=\"#DejaVuSans-30\"/>\n       <use x=\"127.246094\" xlink:href=\"#DejaVuSans-30\"/>\n      </g>\n     </g>\n    </g>\n    <g id=\"ytick_3\">\n     <g id=\"line2d_33\">\n      <g>\n       <use style=\"stroke:#000000;stroke-width:0.8;\" x=\"33.2875\" xlink:href=\"#mea59e975b2\" y=\"155.309821\"/>\n      </g>\n     </g>\n     <g id=\"text_34\">\n      <!-- 200 -->\n      <g transform=\"translate(7.2 159.10904)scale(0.1 -0.1)\">\n       <use xlink:href=\"#DejaVuSans-32\"/>\n       <use x=\"63.623047\" xlink:href=\"#DejaVuSans-30\"/>\n       <use x=\"127.246094\" xlink:href=\"#DejaVuSans-30\"/>\n      </g>\n     </g>\n    </g>\n    <g id=\"ytick_4\">\n     <g id=\"line2d_34\">\n      <g>\n       <use style=\"stroke:#000000;stroke-width:0.8;\" x=\"33.2875\" xlink:href=\"#mea59e975b2\" y=\"119.23217\"/>\n      </g>\n     </g>\n     <g id=\"text_35\">\n      <!-- 300 -->\n      <g transform=\"translate(7.2 123.031389)scale(0.1 -0.1)\">\n       <use xlink:href=\"#DejaVuSans-33\"/>\n       <use x=\"63.623047\" xlink:href=\"#DejaVuSans-30\"/>\n       <use x=\"127.246094\" xlink:href=\"#DejaVuSans-30\"/>\n      </g>\n     </g>\n    </g>\n    <g id=\"ytick_5\">\n     <g id=\"line2d_35\">\n      <g>\n       <use style=\"stroke:#000000;stroke-width:0.8;\" x=\"33.2875\" xlink:href=\"#mea59e975b2\" y=\"83.15452\"/>\n      </g>\n     </g>\n     <g id=\"text_36\">\n      <!-- 400 -->\n      <g transform=\"translate(7.2 86.953739)scale(0.1 -0.1)\">\n       <use xlink:href=\"#DejaVuSans-34\"/>\n       <use x=\"63.623047\" xlink:href=\"#DejaVuSans-30\"/>\n       <use x=\"127.246094\" xlink:href=\"#DejaVuSans-30\"/>\n      </g>\n     </g>\n    </g>\n    <g id=\"ytick_6\">\n     <g id=\"line2d_36\">\n      <g>\n       <use style=\"stroke:#000000;stroke-width:0.8;\" x=\"33.2875\" xlink:href=\"#mea59e975b2\" y=\"47.076869\"/>\n      </g>\n     </g>\n     <g id=\"text_37\">\n      <!-- 500 -->\n      <g transform=\"translate(7.2 50.876088)scale(0.1 -0.1)\">\n       <use xlink:href=\"#DejaVuSans-35\"/>\n       <use x=\"63.623047\" xlink:href=\"#DejaVuSans-30\"/>\n       <use x=\"127.246094\" xlink:href=\"#DejaVuSans-30\"/>\n      </g>\n     </g>\n    </g>\n    <g id=\"ytick_7\">\n     <g id=\"line2d_37\">\n      <g>\n       <use style=\"stroke:#000000;stroke-width:0.8;\" x=\"33.2875\" xlink:href=\"#mea59e975b2\" y=\"10.999219\"/>\n      </g>\n     </g>\n     <g id=\"text_38\">\n      <!-- 600 -->\n      <g transform=\"translate(7.2 14.798437)scale(0.1 -0.1)\">\n       <use xlink:href=\"#DejaVuSans-36\"/>\n       <use x=\"63.623047\" xlink:href=\"#DejaVuSans-30\"/>\n       <use x=\"127.246094\" xlink:href=\"#DejaVuSans-30\"/>\n      </g>\n     </g>\n    </g>\n   </g>\n   <g id=\"patch_33\">\n    <path d=\"M 33.2875 227.465122 \nL 33.2875 10.025122 \n\" style=\"fill:none;stroke:#000000;stroke-linecap:square;stroke-linejoin:miter;stroke-width:0.8;\"/>\n   </g>\n   <g id=\"patch_34\">\n    <path d=\"M 368.0875 227.465122 \nL 368.0875 10.025122 \n\" style=\"fill:none;stroke:#000000;stroke-linecap:square;stroke-linejoin:miter;stroke-width:0.8;\"/>\n   </g>\n   <g id=\"patch_35\">\n    <path d=\"M 33.2875 227.465122 \nL 368.0875 227.465122 \n\" style=\"fill:none;stroke:#000000;stroke-linecap:square;stroke-linejoin:miter;stroke-width:0.8;\"/>\n   </g>\n   <g id=\"patch_36\">\n    <path d=\"M 33.2875 10.025122 \nL 368.0875 10.025122 \n\" style=\"fill:none;stroke:#000000;stroke-linecap:square;stroke-linejoin:miter;stroke-width:0.8;\"/>\n   </g>\n  </g>\n </g>\n <defs>\n  <clipPath id=\"pd9fe0650d8\">\n   <rect height=\"217.44\" width=\"334.8\" x=\"33.2875\" y=\"10.025122\"/>\n  </clipPath>\n </defs>\n</svg>\n",
      "image/png": "[encoded data removed]"
     },
     "metadata": {
      "needs_background": "light"
     }
    }
   ],
   "source": [
    "qd_df[\"published\"].groupby(qd_df[\"published\"].dt.year).count().plot(kind=\"bar\")"
   ]
  },
  {
   "cell_type": "markdown",
   "metadata": {},
   "source": [
    "Explore authors to see who is publishing your topic. Group by author, then sort and select the top 20 authors."
   ]
  },
  {
   "cell_type": "code",
   "execution_count": 99,
   "metadata": {},
   "outputs": [
    {
     "output_type": "execute_result",
     "data": {
      "text/plain": [
       "first_author\n",
       "Bing Dong                 27\n",
       "Y. Alhassid               20\n",
       "Constantine Yannouleas    18\n",
       "David M. -T. Kuo          16\n",
       "Akira Oguri               15\n",
       "Xuedong Hu                15\n",
       "B. Szafran                14\n",
       "Massimo Rontani           14\n",
       "Rafael Sánchez            14\n",
       "Kicheon Kang              14\n",
       "Ulrich Hohenester         14\n",
       "P. W. Brouwer             13\n",
       "C. W. J. Beenakker        13\n",
       "Piotr Trocha              12\n",
       "O. Entin-Wohlman          12\n",
       "Vidar Gudmundsson         12\n",
       "Ramin M. Abolfath         11\n",
       "A. A. Aligia              11\n",
       "G. Giavaras               11\n",
       "Arka Majumdar             11\n",
       "Name: first_author, dtype: int64"
      ]
     },
     "metadata": {},
     "execution_count": 99
    }
   ],
   "source": [
    "qd_authors = qd_df.groupby(qd_df[\"first_author\"])[\"first_author\"].count().sort_values(ascending=False)\n",
    "qd_authors.head(20)"
   ]
  },
  {
   "cell_type": "markdown",
   "metadata": {},
   "source": [
    "## Identify and download papers"
   ]
  },
  {
   "cell_type": "markdown",
   "metadata": {},
   "source": [
    "Let's download the oldest paper about quantum dots co-authored by Piotr Trocha:"
   ]
  },
  {
   "cell_type": "code",
   "execution_count": 100,
   "metadata": {},
   "outputs": [
    {
     "output_type": "execute_result",
     "data": {
      "text/plain": [
       "                                                  title  \\\n",
       "748   Dicke-like effect in spin-polarized transport ...   \n",
       "2275  Kondo-Dicke resonances in electronic transport...   \n",
       "3322  Negative tunnel magnetoresistance and differen...   \n",
       "5285  Beating in electronic transport through quantu...   \n",
       "2429        Orbital Kondo effect in double quantum dots   \n",
       "2471  The influence of spin-flip scattering on the p...   \n",
       "5448  Large enhancement of thermoelectric effects in...   \n",
       "7692  The role of the indirect tunneling processes a...   \n",
       "2606  Spin-polarized Andreev transport influenced by...   \n",
       "7644  Spin-resolved Andreev transport through double...   \n",
       "6233  Spin-dependent thermoelectric phenomena in a q...   \n",
       "6349  Cross-correlations in a quantum dot Cooper pai...   \n",
       "\n",
       "                     published  first_author  \\\n",
       "748  2007-11-22 16:11:11+00:00  Piotr Trocha   \n",
       "2275 2008-03-28 15:49:07+00:00  Piotr Trocha   \n",
       "3322 2009-11-02 11:45:03+00:00  Piotr Trocha   \n",
       "5285 2010-04-11 16:20:04+00:00  Piotr Trocha   \n",
       "2429 2010-08-17 14:13:23+00:00  Piotr Trocha   \n",
       "2471 2011-05-08 20:12:41+00:00  Piotr Trocha   \n",
       "5448 2011-08-11 14:49:51+00:00  Piotr Trocha   \n",
       "7692 2011-09-12 20:51:49+00:00  Piotr Trocha   \n",
       "2606 2014-09-14 23:54:35+00:00  Piotr Trocha   \n",
       "7644 2015-08-24 19:02:49+00:00  Piotr Trocha   \n",
       "6233 2017-05-02 14:55:38+00:00  Piotr Trocha   \n",
       "6349 2018-07-23 22:28:01+00:00  Piotr Trocha   \n",
       "\n",
       "                                _result  \n",
       "748    http://arxiv.org/abs/0711.3611v2  \n",
       "2275   http://arxiv.org/abs/0803.4154v1  \n",
       "3322   http://arxiv.org/abs/0911.0291v1  \n",
       "5285   http://arxiv.org/abs/1004.1819v2  \n",
       "2429   http://arxiv.org/abs/1008.2902v2  \n",
       "2471   http://arxiv.org/abs/1105.1550v1  \n",
       "5448   http://arxiv.org/abs/1108.2422v2  \n",
       "7692   http://arxiv.org/abs/1109.2621v1  \n",
       "2606   http://arxiv.org/abs/1409.4122v1  \n",
       "7644  http://arxiv.org/abs/1508.05915v1  \n",
       "6233  http://arxiv.org/abs/1705.01007v1  \n",
       "6349  http://arxiv.org/abs/1807.08850v1  "
      ],
      "text/html": "<div>\n<style scoped>\n    .dataframe tbody tr th:only-of-type {\n        vertical-align: middle;\n    }\n\n    .dataframe tbody tr th {\n        vertical-align: top;\n    }\n\n    .dataframe thead th {\n        text-align: right;\n    }\n</style>\n<table border=\"1\" class=\"dataframe\">\n  <thead>\n    <tr style=\"text-align: right;\">\n      <th></th>\n      <th>title</th>\n      <th>published</th>\n      <th>first_author</th>\n      <th>_result</th>\n    </tr>\n  </thead>\n  <tbody>\n    <tr>\n      <th>748</th>\n      <td>Dicke-like effect in spin-polarized transport ...</td>\n      <td>2007-11-22 16:11:11+00:00</td>\n      <td>Piotr Trocha</td>\n      <td>http://arxiv.org/abs/0711.3611v2</td>\n    </tr>\n    <tr>\n      <th>2275</th>\n      <td>Kondo-Dicke resonances in electronic transport...</td>\n      <td>2008-03-28 15:49:07+00:00</td>\n      <td>Piotr Trocha</td>\n      <td>http://arxiv.org/abs/0803.4154v1</td>\n    </tr>\n    <tr>\n      <th>3322</th>\n      <td>Negative tunnel magnetoresistance and differen...</td>\n      <td>2009-11-02 11:45:03+00:00</td>\n      <td>Piotr Trocha</td>\n      <td>http://arxiv.org/abs/0911.0291v1</td>\n    </tr>\n    <tr>\n      <th>5285</th>\n      <td>Beating in electronic transport through quantu...</td>\n      <td>2010-04-11 16:20:04+00:00</td>\n      <td>Piotr Trocha</td>\n      <td>http://arxiv.org/abs/1004.1819v2</td>\n    </tr>\n    <tr>\n      <th>2429</th>\n      <td>Orbital Kondo effect in double quantum dots</td>\n      <td>2010-08-17 14:13:23+00:00</td>\n      <td>Piotr Trocha</td>\n      <td>http://arxiv.org/abs/1008.2902v2</td>\n    </tr>\n    <tr>\n      <th>2471</th>\n      <td>The influence of spin-flip scattering on the p...</td>\n      <td>2011-05-08 20:12:41+00:00</td>\n      <td>Piotr Trocha</td>\n      <td>http://arxiv.org/abs/1105.1550v1</td>\n    </tr>\n    <tr>\n      <th>5448</th>\n      <td>Large enhancement of thermoelectric effects in...</td>\n      <td>2011-08-11 14:49:51+00:00</td>\n      <td>Piotr Trocha</td>\n      <td>http://arxiv.org/abs/1108.2422v2</td>\n    </tr>\n    <tr>\n      <th>7692</th>\n      <td>The role of the indirect tunneling processes a...</td>\n      <td>2011-09-12 20:51:49+00:00</td>\n      <td>Piotr Trocha</td>\n      <td>http://arxiv.org/abs/1109.2621v1</td>\n    </tr>\n    <tr>\n      <th>2606</th>\n      <td>Spin-polarized Andreev transport influenced by...</td>\n      <td>2014-09-14 23:54:35+00:00</td>\n      <td>Piotr Trocha</td>\n      <td>http://arxiv.org/abs/1409.4122v1</td>\n    </tr>\n    <tr>\n      <th>7644</th>\n      <td>Spin-resolved Andreev transport through double...</td>\n      <td>2015-08-24 19:02:49+00:00</td>\n      <td>Piotr Trocha</td>\n      <td>http://arxiv.org/abs/1508.05915v1</td>\n    </tr>\n    <tr>\n      <th>6233</th>\n      <td>Spin-dependent thermoelectric phenomena in a q...</td>\n      <td>2017-05-02 14:55:38+00:00</td>\n      <td>Piotr Trocha</td>\n      <td>http://arxiv.org/abs/1705.01007v1</td>\n    </tr>\n    <tr>\n      <th>6349</th>\n      <td>Cross-correlations in a quantum dot Cooper pai...</td>\n      <td>2018-07-23 22:28:01+00:00</td>\n      <td>Piotr Trocha</td>\n      <td>http://arxiv.org/abs/1807.08850v1</td>\n    </tr>\n  </tbody>\n</table>\n</div>"
     },
     "metadata": {},
     "execution_count": 100
    }
   ],
   "source": [
    "qd_Trocha_sorted  = qd_df[qd_df['first_author']=='Piotr Trocha'].sort_values('published')\n",
    "qd_Trocha_sorted"
   ]
  },
  {
   "cell_type": "code",
   "execution_count": 101,
   "metadata": {},
   "outputs": [
    {
     "output_type": "execute_result",
     "data": {
      "text/plain": [
       "'./0711.3611v2.Dicke_like_effect_in_spin_polarized_transport_through_coupled_quantum_dots.pdf'"
      ]
     },
     "metadata": {},
     "execution_count": 101
    }
   ],
   "source": [
    "# Use the arxiv.Result object stored in the _result column to trigger a PDF download.\n",
    "qd_Trocha_oldest = qd_Trocha_sorted.iloc[0]\n",
    "qd_Trocha_oldest._result.download_pdf()"
   ]
  },
  {
   "cell_type": "markdown",
   "metadata": {},
   "source": [
    "Confirm that the PDF has downloaded!"
   ]
  },
  {
   "cell_type": "markdown",
   "metadata": {},
   "source": [
    "## Bibliography\n",
    "\n",
    "- Tim Head: https://betatim.github.io/posts/analysing-the-arxiv/\n",
    "- Lukas Schwab: https://github.com/lukasschwab/arxiv.py\n",
    "- ArXiV API user manual: https://arxiv.org/help/api/user-manual        "
   ]
  }
 ],
 "metadata": {
  "celltoolbar": "Tags",
  "kernelspec": {
   "display_name": "Python 3",
   "language": "python",
   "name": "python3"
  },
  "language_info": {
   "codemirror_mode": {
    "name": "ipython",
    "version": 3
   },
   "file_extension": ".py",
   "mimetype": "text/x-python",
   "name": "python",
   "nbconvert_exporter": "python",
   "pygments_lexer": "ipython3",
   "version": "3.7.6"
  }
 },
 "nbformat": 4,
 "nbformat_minor": 4
}
