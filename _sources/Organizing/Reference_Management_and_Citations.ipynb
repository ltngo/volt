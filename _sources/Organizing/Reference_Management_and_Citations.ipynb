{
 "cells": [
  {
   "cell_type": "markdown",
   "metadata": {},
   "source": [
    "# Reference Management and Citations"
   ]
  },
  {
   "cell_type": "markdown",
   "metadata": {},
   "source": [
    "Streamline your research and writing workflows by adopting reference management software (sometimes known as citation management software). These tools can help you organize, annotate, tag your readings and share with research partners. When you’re ready to write they can automatically generate in-text citations and bibliographies in many different styles."
   ]
  },
  {
   "cell_type": "markdown",
   "metadata": {},
   "source": [
    "## Software"
   ]
  },
  {
   "cell_type": "markdown",
   "metadata": {},
   "source": [
    "[Comparison of reference management software (Wikipedia)](https://en.wikipedia.org/wiki/Comparison_of_reference_management_software)"
   ]
  },
  {
   "cell_type": "markdown",
   "metadata": {},
   "source": [
    "Recommended:\n",
    "* [Zotero](https://guides.lib.berkeley.edu/zotero)\n",
    "* [Mendeley](https://guides.lib.berkeley.edu/mendeley)\n",
    "* [EndNote](https://guides.lib.berkeley.edu/endnote)\n",
    "* [Refworks](https://guides.lib.berkeley.edu/newrefworks)"
   ]
  },
  {
   "cell_type": "markdown",
   "metadata": {},
   "source": [
    "## Choosing a Tool"
   ]
  },
  {
   "cell_type": "markdown",
   "metadata": {},
   "source": [
    "You have a lot of options when choosing a tool, and some tools may be better suited than others depending on your needs. No matter what you choose, be assured that it is fairly easy to export your library and import to another tool if you change your mind (though you may lose notes attached to specific records).\n",
    "* What does your lab / PI / Advisor use? (perhaps the most important question)\n",
    "* Is it free (or cheap)?\n",
    "* What is the learning curve?\n",
    "* Do you write collaboratively with others?\n",
    "* What word processing software do you use for writing?\n",
    "* Will you need to work offline?"
   ]
  },
  {
   "cell_type": "markdown",
   "metadata": {},
   "source": [
    "## Try it out - Writing and Citing with Zotero"
   ]
  },
  {
   "cell_type": "markdown",
   "metadata": {},
   "source": [
    "Jump in and try the following exercises to set up your own account with Zotero, build a library, and generate citations in your writing."
   ]
  },
  {
   "cell_type": "markdown",
   "metadata": {},
   "source": [
    "### Exercise 1: Getting started"
   ]
  },
  {
   "cell_type": "markdown",
   "metadata": {},
   "source": [
    "Let's get some practice with reference management software by completing a few basic exercises. We'll use [Zotero](https://www.zotero.org/), a free open-source tool. You'll mainly be working with the desktop client; however, Zotero also has a web interface that you can sync."
   ]
  },
  {
   "cell_type": "markdown",
   "metadata": {},
   "source": [
    "1. Go to [www.zotero.org](https://www.zotero.org/) and follow the instructions to download the software and set up an account.\n",
    "2. Install the Zotero Connector in your browser(s) of choice. \n",
    "3. Open the Zotero Desktop App."
   ]
  },
  {
   "cell_type": "markdown",
   "metadata": {},
   "source": [
    "### Exercise 2: Import citations from Google Scholar"
   ]
  },
  {
   "cell_type": "markdown",
   "metadata": {},
   "source": [
    "Let's start by building your library.\n",
    "1. Go to [scholar.google.com](http://scholar.google.com) and run a search (example: eastern fox squirrel)\n",
    "2. Click on the Zotero Connector icon in your browser\n",
    "3. Select the items that you want to add to your library\n",
    "4. Check that the downloaded bibliographic information is correct"
   ]
  },
  {
   "cell_type": "markdown",
   "metadata": {},
   "source": [
    "### Exercise 3: Add a PDF to your library"
   ]
  },
  {
   "cell_type": "markdown",
   "metadata": {},
   "source": [
    "1. Go to Edit > Preferences > General and make sure these two boxes are checked: \"Automatically retrieve metadata for PDFs\" and \"Automatically rename attachment files using parent metadata\"\n",
    "2. Find a PDF on your computer and drag it into the center pane of your Zotero client \n",
    "3. The first time you do this you’ll be prompted to install utilities that enable PDF indexing. Follow the prompts. \n",
    "4. An entry for the PDF should be automatically generated with the PDF attached.\n"
   ]
  },
  {
   "cell_type": "markdown",
   "metadata": {},
   "source": [
    "### Exercise 4: Organize your library"
   ]
  },
  {
   "cell_type": "markdown",
   "metadata": {},
   "source": [
    "1. Go to File > New Collection (or click on the icon that looks like a folder with a green plus sign)\n",
    "2. Name your new collection; this will create a new collection nested under “My Library”\n",
    "3. Drag and drop items from your Library into your new collection (items can be in more than one collection)\n"
   ]
  },
  {
   "cell_type": "markdown",
   "metadata": {},
   "source": [
    "### Exercise 5: Create a bibliography"
   ]
  },
  {
   "cell_type": "markdown",
   "metadata": {},
   "source": [
    "1. In your Zotero library, select the items you want in your bibliography\n",
    "2. Right click \n",
    "3. In the menu that appears, choose “Create bibliography from selected items”\n",
    "4. In the pop-up that appears, choose your output style and output method\n"
   ]
  },
  {
   "cell_type": "markdown",
   "metadata": {},
   "source": [
    "### Exercise 6: Insert citations and create a bibliography in-text"
   ]
  },
  {
   "cell_type": "markdown",
   "metadata": {},
   "source": [
    "1. Open Word and create a new document\n",
    "2. Click on Zotero in the menu bar to display the Zotero menu\n",
    "3. Type a sentence and then click on Add/Edit citation\n",
    "4. When the red bar appears, type a word from one of the citations in your library\n",
    "5. When the citation you want appears, select it and then hit enter\n",
    "6. Hit enter, and then hit enter again\n",
    "7. Place your cursor where you want your bibliography to begin\n",
    "8. Click on Add/Edit bibliography\n",
    "9. The citation should appear in bibliographic style format\n"
   ]
  },
  {
   "cell_type": "markdown",
   "metadata": {},
   "source": [
    "## Reference Management Tools Workshop"
   ]
  },
  {
   "cell_type": "markdown",
   "metadata": {},
   "source": [
    "<style>\n",
    ".responsive-wrap iframe{ max-width: 100%;}\n",
    "</style>\n",
    "<div class=\"responsive-wrap\">\n",
    "<!-- this is the embed code provided by Google -->\n",
    "<iframe src=\"https://docs.google.com/presentation/d/e/2PACX-1vR6w1m9rBBNbDVyo-qJk8ccP5PcXlUDw3rn4P4_-5z5O80qOc0VQfDhWpSBovmlDxpxR-WW46hpN8f9/embed?start=false&loop=false&delayms=10000\" frameborder=\"0\" width=\"960\" height=\"500\" allowfullscreen=\"true\" mozallowfullscreen=\"true\" webkitallowfullscreen=\"true\"></iframe>\n",
    "<!-- Google embed ends -->\n",
    "</div>"
   ]
  }
 ],
 "metadata": {
  "kernelspec": {
   "display_name": "Python 3",
   "language": "python",
   "name": "python3"
  },
  "language_info": {
   "codemirror_mode": {
    "name": "ipython",
    "version": 3
   },
   "file_extension": ".py",
   "mimetype": "text/x-python",
   "name": "python",
   "nbconvert_exporter": "python",
   "pygments_lexer": "ipython3",
   "version": "3.7.6"
  }
 },
 "nbformat": 4,
 "nbformat_minor": 2
}
