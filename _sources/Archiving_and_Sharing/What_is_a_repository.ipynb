{
 "cells": [
  {
   "cell_type": "markdown",
   "metadata": {},
   "source": [
    "# Archival Repositories"
   ]
  },
  {
   "cell_type": "markdown",
   "metadata": {},
   "source": [
    "An archival repository is a place where documents and objects are stored and maintained. A digital archival repository stores and maintains digital objects, including various scholarly outputs with the intent of providing long-term storage and discovery for future use. Scholarly outputs in the form of digital objects include data, code, models, images, audio files, pre-prints, posters, and more.\n"
   ]
  },
  {
   "cell_type": "markdown",
   "metadata": {},
   "source": [
    "Funders and publishers may require that data, code, and other supporting materials be deposited in a repository at the end of a project or prior to publication. The data and other outputs are securely stored, routinely maintained, and made accessible for years to come. "
   ]
  },
  {
   "cell_type": "markdown",
   "metadata": {},
   "source": [
    "## Attributes of Trusted Repositories"
   ]
  },
  {
   "cell_type": "markdown",
   "metadata": {},
   "source": [
    "*the below list has been adapted from coretrustseal.org*\n",
    "\n",
    "1. The repository has a stated mission to provide access and preserve scholarship.\n",
    "2. The repository will provide usage licenses that stipulate how the scholarship may be used. For example a CC-BY 4.0 license allows a user to share and adapt the work as long as the creator is given appropriate credit. Licensing types may differ based on the type of output (code or a pre-print). \n",
    "3. The repository provides a plan for maintaining longterm access and storage. \n",
    "4. The repository will ensure that data and other scholarly outputs are accessed and used ethically. For example, the repository will not provide access to data that has confidential or private information.\n",
    "5. The repository has financial and personnel backing to ensure its long-term existence.\n",
    "6. The repository will maintain the long term authenticity, by preventing files from becoming corrupted. \n",
    "7. The repository requires a minimum level of metadata to make the scholarship usable and understandable by others.\n",
    "8. The repository assigns identifiers (such as DOIs or ARKs) and generates a citation for long term discovery and accessibility.\n",
    "9. The repository has the proper infrastructure to provide security and ensure the longterm viability of the platform."
   ]
  },
  {
   "cell_type": "code",
   "execution_count": null,
   "metadata": {},
   "outputs": [],
   "source": []
  }
 ],
 "metadata": {
  "kernelspec": {
   "display_name": "Python 3",
   "language": "python",
   "name": "python3"
  },
  "language_info": {
   "codemirror_mode": {
    "name": "ipython",
    "version": 3
   },
   "file_extension": ".py",
   "mimetype": "text/x-python",
   "name": "python",
   "nbconvert_exporter": "python",
   "pygments_lexer": "ipython3",
   "version": "3.8.3"
  }
 },
 "nbformat": 4,
 "nbformat_minor": 4
}
