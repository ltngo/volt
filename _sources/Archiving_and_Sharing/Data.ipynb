{
 "cells": [
  {
   "cell_type": "markdown",
   "metadata": {},
   "source": [
    "# Archiving and Sharing Data"
   ]
  },
  {
   "cell_type": "markdown",
   "metadata": {},
   "source": [
    "Please check funder and publisher requirements when archiving data. Based on the data type, the funder may want data deposited in a specific location. Publishers usually provide repository recommendations, but it is important to check their guidelines. "
   ]
  },
  {
   "cell_type": "markdown",
   "metadata": {},
   "source": [
    "If affiliated with UC Berkeley or Lawrence Berkeley National Lab, it is free to deposit datasets with [Dryad Digital Repository](https://datadryad.org/stash/). Dryad is an open-source archival repository for a wide range of data types from any discipline. Data is assigned a DOI and citation for increased discovery, stability, and to enable proper attribution. "
   ]
  },
  {
   "cell_type": "markdown",
   "metadata": {},
   "source": [
    "To ensure that data is understandable and usable in the future, you need to make your data and code FAIR: findable, accessible, interoperable, and usable.  "
   ]
  },
  {
   "cell_type": "markdown",
   "metadata": {},
   "source": [
    "If your data requires a discipline specific repository, please visit [Registry of Research Data Repositories](https://www.re3data.org). "
   ]
  },
  {
   "cell_type": "markdown",
   "metadata": {},
   "source": [
    "![re3](images/re3.png)"
   ]
  },
  {
   "cell_type": "code",
   "execution_count": null,
   "metadata": {},
   "outputs": [],
   "source": []
  }
 ],
 "metadata": {
  "kernelspec": {
   "display_name": "Python 3",
   "language": "python",
   "name": "python3"
  },
  "language_info": {
   "codemirror_mode": {
    "name": "ipython",
    "version": 3
   },
   "file_extension": ".py",
   "mimetype": "text/x-python",
   "name": "python",
   "nbconvert_exporter": "python",
   "pygments_lexer": "ipython3",
   "version": "3.8.3"
  }
 },
 "nbformat": 4,
 "nbformat_minor": 4
}
