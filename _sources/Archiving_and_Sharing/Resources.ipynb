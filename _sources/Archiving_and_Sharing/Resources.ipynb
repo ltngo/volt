{
 "cells": [
  {
   "cell_type": "markdown",
   "metadata": {},
   "source": [
    "# Repository Resources and Options"
   ]
  },
  {
   "cell_type": "markdown",
   "metadata": {},
   "source": [
    "There are a few factors that go into selecting a selecting a repository.\n",
    "\n",
    "1. What type of scholarly output needs to be archived? There are object specific repositories that work best for objects like data, pre-prints, or code. \n",
    "<p>&nbsp;  </p>\n",
    "2. Does the research funder provide specific guidelines for archiving? Some funders, like the NIH, will specify that certain data types be uploaded to a domain repository. For example, sequencing data should be submitted to National Library of Medicine's (NLM) Sequence Read Archive (SRA).\n",
    "<p>&nbsp;  </p>\n",
    "3. Does the publisher provide specific guidelines for archiving? Some publishers will provide guidelines or make repository recommendations. "
   ]
  },
  {
   "cell_type": "markdown",
   "metadata": {},
   "source": [
    "Visit the [Registry of Research Data Repositories](https://www.re3data.org) to learn more about the different types of repositories, or talk to your [subject librarian](https://www.lib.berkeley.edu/help/subject-specialists) for guidance. \n"
   ]
  },
  {
   "cell_type": "code",
   "execution_count": null,
   "metadata": {},
   "outputs": [],
   "source": []
  }
 ],
 "metadata": {
  "kernelspec": {
   "display_name": "Python 3",
   "language": "python",
   "name": "python3"
  },
  "language_info": {
   "codemirror_mode": {
    "name": "ipython",
    "version": 3
   },
   "file_extension": ".py",
   "mimetype": "text/x-python",
   "name": "python",
   "nbconvert_exporter": "python",
   "pygments_lexer": "ipython3",
   "version": "3.8.3"
  }
 },
 "nbformat": 4,
 "nbformat_minor": 4
}
